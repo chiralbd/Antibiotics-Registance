{
 "cells": [
  {
   "cell_type": "code",
   "execution_count": 2,
   "metadata": {},
   "outputs": [],
   "source": [
    "import pandas as pd \n",
    "import numpy as np \n",
    "import matplotlib.pyplot as plt \n",
    "import seaborn as sns "
   ]
  },
  {
   "cell_type": "code",
   "execution_count": 3,
   "metadata": {},
   "outputs": [],
   "source": [
    "df = pd.read_csv('../data/cleaned_data.csv')"
   ]
  },
  {
   "cell_type": "code",
   "execution_count": 4,
   "metadata": {},
   "outputs": [
    {
     "data": {
      "text/html": [
       "<div>\n",
       "<style scoped>\n",
       "    .dataframe tbody tr th:only-of-type {\n",
       "        vertical-align: middle;\n",
       "    }\n",
       "\n",
       "    .dataframe tbody tr th {\n",
       "        vertical-align: top;\n",
       "    }\n",
       "\n",
       "    .dataframe thead th {\n",
       "        text-align: right;\n",
       "    }\n",
       "</style>\n",
       "<table border=\"1\" class=\"dataframe\">\n",
       "  <thead>\n",
       "    <tr style=\"text-align: right;\">\n",
       "      <th></th>\n",
       "      <th>Timestamp</th>\n",
       "      <th>Age of Participant</th>\n",
       "      <th>Gender</th>\n",
       "      <th>Nationality</th>\n",
       "      <th>Academic Status</th>\n",
       "      <th>Field of Education</th>\n",
       "      <th>Email</th>\n",
       "      <th>Contact Number (Optional)</th>\n",
       "      <th>Do you know about how antibiotics differ from other drugs?</th>\n",
       "      <th>Pick the most appropriate definition of antibiotics</th>\n",
       "      <th>...</th>\n",
       "      <th>What type of movement on public health issues do you think will be effective in setting malpractices right?</th>\n",
       "      <th>Why do you think public health issues don’t get due importance in public opinion?</th>\n",
       "      <th>How many antibiotics have you taken over the past 3 years?</th>\n",
       "      <th>What was the pattern of antibiotic use?</th>\n",
       "      <th>What was the formulation of the product used?</th>\n",
       "      <th>What was the best experience with the consumption of antibiotics?</th>\n",
       "      <th>What was the worst experience with the consumption of antibiotics?</th>\n",
       "      <th>How did you come to consume the antibiotic?</th>\n",
       "      <th>Have you experienced treatment failure from antibiotic consumption?</th>\n",
       "      <th>What was your understanding of treatment failure?</th>\n",
       "    </tr>\n",
       "  </thead>\n",
       "  <tbody>\n",
       "    <tr>\n",
       "      <th>0</th>\n",
       "      <td>7/6/2020 1:23:29</td>\n",
       "      <td>22</td>\n",
       "      <td>Male</td>\n",
       "      <td>Bangladeshi</td>\n",
       "      <td>BS.c</td>\n",
       "      <td>Microbiology</td>\n",
       "      <td>linconjnu@gmail.com</td>\n",
       "      <td>1742100015</td>\n",
       "      <td>Yes</td>\n",
       "      <td>Medicine used to treat infections</td>\n",
       "      <td>...</td>\n",
       "      <td>Citizen movement from all people</td>\n",
       "      <td>Our people are not educated enough to understa...</td>\n",
       "      <td>I don’t remember</td>\n",
       "      <td>NaN</td>\n",
       "      <td>NaN</td>\n",
       "      <td>NaN</td>\n",
       "      <td>NaN</td>\n",
       "      <td>NaN</td>\n",
       "      <td>NaN</td>\n",
       "      <td>NaN</td>\n",
       "    </tr>\n",
       "    <tr>\n",
       "      <th>1</th>\n",
       "      <td>7/6/2020 1:27:29</td>\n",
       "      <td>21</td>\n",
       "      <td>Male</td>\n",
       "      <td>Bangladeshi</td>\n",
       "      <td>Honours 2nd year</td>\n",
       "      <td>Microbiology</td>\n",
       "      <td>mdarafat01853467085@gmail.com</td>\n",
       "      <td>NaN</td>\n",
       "      <td>Yes</td>\n",
       "      <td>Medicine used to treat infections</td>\n",
       "      <td>...</td>\n",
       "      <td>Movement in media to form public opinion</td>\n",
       "      <td>Our people are not educated enough to understa...</td>\n",
       "      <td>I don’t remember</td>\n",
       "      <td>NaN</td>\n",
       "      <td>NaN</td>\n",
       "      <td>NaN</td>\n",
       "      <td>NaN</td>\n",
       "      <td>NaN</td>\n",
       "      <td>NaN</td>\n",
       "      <td>NaN</td>\n",
       "    </tr>\n",
       "    <tr>\n",
       "      <th>2</th>\n",
       "      <td>7/6/2020 2:49:03</td>\n",
       "      <td>21</td>\n",
       "      <td>Female</td>\n",
       "      <td>Bangladeshi</td>\n",
       "      <td>BSc</td>\n",
       "      <td>Microbiology</td>\n",
       "      <td>sadianasertanjin@gmail.com</td>\n",
       "      <td>NaN</td>\n",
       "      <td>Yes</td>\n",
       "      <td>Medicine used to treat infections</td>\n",
       "      <td>...</td>\n",
       "      <td>Professional movement by doctors, pharmaceutic...</td>\n",
       "      <td>Our people are not educated enough to understa...</td>\n",
       "      <td>I know precisely</td>\n",
       "      <td>I took multiple antibiotics multiple times</td>\n",
       "      <td>Tablet</td>\n",
       "      <td>I recovered from the symptoms quickly, which w...</td>\n",
       "      <td>Side-effects</td>\n",
       "      <td>A registered physician prescribed it for the s...</td>\n",
       "      <td>No</td>\n",
       "      <td>I suspect the quality of the antibiotic was no...</td>\n",
       "    </tr>\n",
       "    <tr>\n",
       "      <th>3</th>\n",
       "      <td>7/6/2020 1:48:30</td>\n",
       "      <td>21</td>\n",
       "      <td>Male</td>\n",
       "      <td>Bangladeshi</td>\n",
       "      <td>B.sc</td>\n",
       "      <td>Microbiology</td>\n",
       "      <td>prantoiftakherahmed@gmail.com</td>\n",
       "      <td>1957353494</td>\n",
       "      <td>No</td>\n",
       "      <td>Medicine used to treat viral disease</td>\n",
       "      <td>...</td>\n",
       "      <td>Legal movement by welfare lawyers</td>\n",
       "      <td>Our government does not endorse forming public...</td>\n",
       "      <td>I don’t remember</td>\n",
       "      <td>NaN</td>\n",
       "      <td>NaN</td>\n",
       "      <td>NaN</td>\n",
       "      <td>NaN</td>\n",
       "      <td>NaN</td>\n",
       "      <td>NaN</td>\n",
       "      <td>NaN</td>\n",
       "    </tr>\n",
       "    <tr>\n",
       "      <th>4</th>\n",
       "      <td>7/6/2020 2:12:32</td>\n",
       "      <td>20</td>\n",
       "      <td>Female</td>\n",
       "      <td>Bangladeshi</td>\n",
       "      <td>BSc</td>\n",
       "      <td>Microbiology</td>\n",
       "      <td>miftah.aourthy@gmail.com</td>\n",
       "      <td>1645762412</td>\n",
       "      <td>No</td>\n",
       "      <td>Medicine used to treat infections</td>\n",
       "      <td>...</td>\n",
       "      <td>Professional movement by doctors, pharmaceutic...</td>\n",
       "      <td>Our people are not educated enough to understa...</td>\n",
       "      <td>I don’t remember</td>\n",
       "      <td>NaN</td>\n",
       "      <td>NaN</td>\n",
       "      <td>NaN</td>\n",
       "      <td>NaN</td>\n",
       "      <td>NaN</td>\n",
       "      <td>NaN</td>\n",
       "      <td>NaN</td>\n",
       "    </tr>\n",
       "  </tbody>\n",
       "</table>\n",
       "<p>5 rows × 28 columns</p>\n",
       "</div>"
      ],
      "text/plain": [
       "          Timestamp  Age of Participant  Gender   Nationality  \\\n",
       "0  7/6/2020 1:23:29                  22    Male   Bangladeshi   \n",
       "1  7/6/2020 1:27:29                  21    Male  Bangladeshi    \n",
       "2  7/6/2020 2:49:03                  21  Female  Bangladeshi    \n",
       "3  7/6/2020 1:48:30                  21    Male  Bangladeshi    \n",
       "4  7/6/2020 2:12:32                  20  Female  Bangladeshi    \n",
       "\n",
       "     Academic Status Field of Education                          Email  \\\n",
       "0               BS.c       Microbiology            linconjnu@gmail.com   \n",
       "1  Honours 2nd year       Microbiology   mdarafat01853467085@gmail.com   \n",
       "2                BSc      Microbiology      sadianasertanjin@gmail.com   \n",
       "3               B.sc      Microbiology   prantoiftakherahmed@gmail.com   \n",
       "4                BSc      Microbiology        miftah.aourthy@gmail.com   \n",
       "\n",
       "  Contact Number (Optional)  \\\n",
       "0                1742100015   \n",
       "1                       NaN   \n",
       "2                       NaN   \n",
       "3                1957353494   \n",
       "4                1645762412   \n",
       "\n",
       "  Do you know about how antibiotics differ from other drugs?  \\\n",
       "0                                               Yes            \n",
       "1                                               Yes            \n",
       "2                                               Yes            \n",
       "3                                                No            \n",
       "4                                                No            \n",
       "\n",
       "  Pick the most appropriate definition of antibiotics  ...  \\\n",
       "0                 Medicine used to treat infections    ...   \n",
       "1                 Medicine used to treat infections    ...   \n",
       "2                 Medicine used to treat infections    ...   \n",
       "3              Medicine used to treat viral disease    ...   \n",
       "4                 Medicine used to treat infections    ...   \n",
       "\n",
       "  What type of movement on public health issues do you think will be effective in setting malpractices right?  \\\n",
       "0                  Citizen movement from all people                                                             \n",
       "1          Movement in media to form public opinion                                                             \n",
       "2  Professional movement by doctors, pharmaceutic...                                                            \n",
       "3                 Legal movement by welfare lawyers                                                             \n",
       "4  Professional movement by doctors, pharmaceutic...                                                            \n",
       "\n",
       "  Why do you think public health issues don’t get due importance in public opinion?  \\\n",
       "0  Our people are not educated enough to understa...                                  \n",
       "1  Our people are not educated enough to understa...                                  \n",
       "2  Our people are not educated enough to understa...                                  \n",
       "3  Our government does not endorse forming public...                                  \n",
       "4  Our people are not educated enough to understa...                                  \n",
       "\n",
       "  How many antibiotics have you taken over the past 3 years?  \\\n",
       "0                                  I don’t remember            \n",
       "1                                  I don’t remember            \n",
       "2                                  I know precisely            \n",
       "3                                  I don’t remember            \n",
       "4                                  I don’t remember            \n",
       "\n",
       "       What was the pattern of antibiotic use?  \\\n",
       "0                                          NaN   \n",
       "1                                          NaN   \n",
       "2  I took multiple antibiotics multiple times    \n",
       "3                                          NaN   \n",
       "4                                          NaN   \n",
       "\n",
       "  What was the formulation of the product used?  \\\n",
       "0                                           NaN   \n",
       "1                                           NaN   \n",
       "2                                        Tablet   \n",
       "3                                           NaN   \n",
       "4                                           NaN   \n",
       "\n",
       "  What was the best experience with the consumption of antibiotics?  \\\n",
       "0                                                NaN                  \n",
       "1                                                NaN                  \n",
       "2  I recovered from the symptoms quickly, which w...                  \n",
       "3                                                NaN                  \n",
       "4                                                NaN                  \n",
       "\n",
       "  What was the worst experience with the consumption of antibiotics?  \\\n",
       "0                                                NaN                   \n",
       "1                                                NaN                   \n",
       "2                                      Side-effects                    \n",
       "3                                                NaN                   \n",
       "4                                                NaN                   \n",
       "\n",
       "         How did you come to consume the antibiotic?  \\\n",
       "0                                                NaN   \n",
       "1                                                NaN   \n",
       "2  A registered physician prescribed it for the s...   \n",
       "3                                                NaN   \n",
       "4                                                NaN   \n",
       "\n",
       "  Have you experienced treatment failure from antibiotic consumption?  \\\n",
       "0                                                NaN                    \n",
       "1                                                NaN                    \n",
       "2                                                No                     \n",
       "3                                                NaN                    \n",
       "4                                                NaN                    \n",
       "\n",
       "   What was your understanding of treatment failure?  \n",
       "0                                                NaN  \n",
       "1                                                NaN  \n",
       "2  I suspect the quality of the antibiotic was no...  \n",
       "3                                                NaN  \n",
       "4                                                NaN  \n",
       "\n",
       "[5 rows x 28 columns]"
      ]
     },
     "execution_count": 4,
     "metadata": {},
     "output_type": "execute_result"
    }
   ],
   "source": [
    "df.head() "
   ]
  },
  {
   "cell_type": "code",
   "execution_count": 5,
   "metadata": {},
   "outputs": [
    {
     "data": {
      "text/plain": [
       "Index(['Timestamp', 'Age of Participant', 'Gender', 'Nationality',\n",
       "       'Academic Status', 'Field of Education', 'Email',\n",
       "       'Contact Number (Optional)',\n",
       "       'Do you know about how antibiotics differ from other drugs?',\n",
       "       'Pick the most appropriate definition of antibiotics',\n",
       "       'How can you identify an antibiotic?',\n",
       "       'What is your idea about the importance of antibiotics?',\n",
       "       ' What is the most dangerous impact of antibiotics?',\n",
       "       'What is your opinion about antibiotic usage?',\n",
       "       'What is your perception of drug-resistant germs?',\n",
       "       'Do you have idea about antibiotic resistance as a threat to public health?',\n",
       "       'Choose a statement that you feel is the best strategy to face antibiotic-resistance',\n",
       "       'Which of the strategies have you heard about against antibiotic resistance?',\n",
       "       'What type of movement on public health issues do you think will be effective in setting malpractices right?',\n",
       "       'Why do you think public health issues don’t get due importance in public opinion?',\n",
       "       'How many antibiotics have you taken over the past 3 years?',\n",
       "       'What was the pattern of antibiotic use?',\n",
       "       'What was the formulation of the product used?',\n",
       "       'What was the best experience with the consumption of antibiotics?',\n",
       "       'What was the worst experience with the consumption of antibiotics?',\n",
       "       'How did you come to consume the antibiotic?',\n",
       "       'Have you experienced treatment failure from antibiotic consumption?',\n",
       "       'What was your understanding of treatment failure?'],\n",
       "      dtype='object')"
      ]
     },
     "execution_count": 5,
     "metadata": {},
     "output_type": "execute_result"
    }
   ],
   "source": [
    "df.columns"
   ]
  },
  {
   "cell_type": "code",
   "execution_count": 6,
   "metadata": {},
   "outputs": [
    {
     "data": {
      "text/plain": [
       "(270, 28)"
      ]
     },
     "execution_count": 6,
     "metadata": {},
     "output_type": "execute_result"
    }
   ],
   "source": [
    "df.shape"
   ]
  },
  {
   "cell_type": "code",
   "execution_count": 7,
   "metadata": {},
   "outputs": [
    {
     "name": "stdout",
     "output_type": "stream",
     "text": [
      "<class 'pandas.core.frame.DataFrame'>\n",
      "RangeIndex: 270 entries, 0 to 269\n",
      "Data columns (total 28 columns):\n",
      " #   Column                                                                                                       Non-Null Count  Dtype \n",
      "---  ------                                                                                                       --------------  ----- \n",
      " 0   Timestamp                                                                                                    270 non-null    object\n",
      " 1   Age of Participant                                                                                           270 non-null    int64 \n",
      " 2   Gender                                                                                                       270 non-null    object\n",
      " 3   Nationality                                                                                                  270 non-null    object\n",
      " 4   Academic Status                                                                                              270 non-null    object\n",
      " 5   Field of Education                                                                                           269 non-null    object\n",
      " 6   Email                                                                                                        259 non-null    object\n",
      " 7   Contact Number (Optional)                                                                                    151 non-null    object\n",
      " 8   Do you know about how antibiotics differ from other drugs?                                                   269 non-null    object\n",
      " 9   Pick the most appropriate definition of antibiotics                                                          270 non-null    object\n",
      " 10  How can you identify an antibiotic?                                                                          270 non-null    object\n",
      " 11  What is your idea about the importance of antibiotics?                                                       270 non-null    object\n",
      " 12   What is the most dangerous impact of antibiotics?                                                           270 non-null    object\n",
      " 13  What is your opinion about antibiotic usage?                                                                 270 non-null    object\n",
      " 14  What is your perception of drug-resistant germs?                                                             270 non-null    object\n",
      " 15  Do you have idea about antibiotic resistance as a threat to public health?                                   270 non-null    object\n",
      " 16  Choose a statement that you feel is the best strategy to face antibiotic-resistance                          270 non-null    object\n",
      " 17  Which of the strategies have you heard about against antibiotic resistance?                                  270 non-null    object\n",
      " 18  What type of movement on public health issues do you think will be effective in setting malpractices right?  270 non-null    object\n",
      " 19  Why do you think public health issues don’t get due importance in public opinion?                            267 non-null    object\n",
      " 20  How many antibiotics have you taken over the past 3 years?                                                   270 non-null    object\n",
      " 21  What was the pattern of antibiotic use?                                                                      75 non-null     object\n",
      " 22  What was the formulation of the product used?                                                                71 non-null     object\n",
      " 23  What was the best experience with the consumption of antibiotics?                                            71 non-null     object\n",
      " 24  What was the worst experience with the consumption of antibiotics?                                           71 non-null     object\n",
      " 25  How did you come to consume the antibiotic?                                                                  71 non-null     object\n",
      " 26  Have you experienced treatment failure from antibiotic consumption?                                          71 non-null     object\n",
      " 27  What was your understanding of treatment failure?                                                            21 non-null     object\n",
      "dtypes: int64(1), object(27)\n",
      "memory usage: 59.2+ KB\n"
     ]
    }
   ],
   "source": [
    "df.info() "
   ]
  },
  {
   "cell_type": "code",
   "execution_count": 8,
   "metadata": {},
   "outputs": [
    {
     "data": {
      "text/plain": [
       "Male      138\n",
       "Female    132\n",
       "Name: Gender, dtype: int64"
      ]
     },
     "execution_count": 8,
     "metadata": {},
     "output_type": "execute_result"
    }
   ],
   "source": [
    "df.Gender.value_counts() "
   ]
  },
  {
   "cell_type": "code",
   "execution_count": 9,
   "metadata": {},
   "outputs": [
    {
     "data": {
      "text/plain": [
       "Yes     205\n",
       "No       64\n",
       "Name: Do you know about how antibiotics differ from other drugs?, dtype: int64"
      ]
     },
     "execution_count": 9,
     "metadata": {},
     "output_type": "execute_result"
    }
   ],
   "source": [
    "df['Do you know about how antibiotics differ from other drugs?'].value_counts() "
   ]
  },
  {
   "cell_type": "code",
   "execution_count": 10,
   "metadata": {},
   "outputs": [
    {
     "data": {
      "text/plain": [
       "No      51\n",
       "Yes     20\n",
       "Name: Have you experienced treatment failure from antibiotic consumption?, dtype: int64"
      ]
     },
     "execution_count": 10,
     "metadata": {},
     "output_type": "execute_result"
    }
   ],
   "source": [
    "df['Have you experienced treatment failure from antibiotic consumption?'].value_counts() "
   ]
  },
  {
   "cell_type": "code",
   "execution_count": 11,
   "metadata": {},
   "outputs": [
    {
     "data": {
      "text/plain": [
       "BSc                      9\n",
       "HSC                      9\n",
       "Student                  9\n",
       "Bsc                      9\n",
       "Graduate                 6\n",
       "                        ..\n",
       "B.Sc Engineering         1\n",
       "Jagannath University     1\n",
       "hons                     1\n",
       "MBBS 1st year            1\n",
       "Bsc final year           1\n",
       "Name: Academic Status, Length: 201, dtype: int64"
      ]
     },
     "execution_count": 11,
     "metadata": {},
     "output_type": "execute_result"
    }
   ],
   "source": [
    "df['Academic Status'].value_counts()"
   ]
  },
  {
   "cell_type": "code",
   "execution_count": null,
   "metadata": {},
   "outputs": [],
   "source": []
  }
 ],
 "metadata": {
  "kernelspec": {
   "display_name": "Python 3",
   "language": "python",
   "name": "python3"
  },
  "language_info": {
   "codemirror_mode": {
    "name": "ipython",
    "version": 3
   },
   "file_extension": ".py",
   "mimetype": "text/x-python",
   "name": "python",
   "nbconvert_exporter": "python",
   "pygments_lexer": "ipython3",
   "version": "3.7.4"
  },
  "latex_envs": {
   "LaTeX_envs_menu_present": true,
   "autoclose": false,
   "autocomplete": true,
   "bibliofile": "biblio.bib",
   "cite_by": "apalike",
   "current_citInitial": 1,
   "eqLabelWithNumbers": true,
   "eqNumInitial": 1,
   "hotkeys": {
    "equation": "Ctrl-E",
    "itemize": "Ctrl-I"
   },
   "labels_anchors": false,
   "latex_user_defs": false,
   "report_style_numbering": false,
   "user_envs_cfg": false
  }
 },
 "nbformat": 4,
 "nbformat_minor": 4
}
