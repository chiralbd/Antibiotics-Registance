{
 "cells": [
  {
   "cell_type": "code",
   "execution_count": 1,
   "metadata": {},
   "outputs": [],
   "source": [
    "import pandas as pd \n",
    "import numpy as np \n",
    "import matplotlib.pyplot as plt \n",
    "import seaborn as sns "
   ]
  },
  {
   "cell_type": "code",
   "execution_count": 2,
   "metadata": {},
   "outputs": [],
   "source": [
    "df = pd.read_csv('../data/cleaned_data.csv')"
   ]
  },
  {
   "cell_type": "code",
   "execution_count": 3,
   "metadata": {},
   "outputs": [
    {
     "data": {
      "text/html": [
       "<div>\n",
       "<style scoped>\n",
       "    .dataframe tbody tr th:only-of-type {\n",
       "        vertical-align: middle;\n",
       "    }\n",
       "\n",
       "    .dataframe tbody tr th {\n",
       "        vertical-align: top;\n",
       "    }\n",
       "\n",
       "    .dataframe thead th {\n",
       "        text-align: right;\n",
       "    }\n",
       "</style>\n",
       "<table border=\"1\" class=\"dataframe\">\n",
       "  <thead>\n",
       "    <tr style=\"text-align: right;\">\n",
       "      <th></th>\n",
       "      <th>Timestamp</th>\n",
       "      <th>Age of Participant</th>\n",
       "      <th>Gender</th>\n",
       "      <th>Nationality</th>\n",
       "      <th>Academic Status</th>\n",
       "      <th>Field of Education</th>\n",
       "      <th>Email</th>\n",
       "      <th>Contact Number (Optional)</th>\n",
       "      <th>Do you know about how antibiotics differ from other drugs?</th>\n",
       "      <th>Pick the most appropriate definition of antibiotics</th>\n",
       "      <th>...</th>\n",
       "      <th>What type of movement on public health issues do you think will be effective in setting malpractices right?</th>\n",
       "      <th>Why do you think public health issues don’t get due importance in public opinion?</th>\n",
       "      <th>How many antibiotics have you taken over the past 3 years?</th>\n",
       "      <th>What was the pattern of antibiotic use?</th>\n",
       "      <th>What was the formulation of the product used?</th>\n",
       "      <th>What was the best experience with the consumption of antibiotics?</th>\n",
       "      <th>What was the worst experience with the consumption of antibiotics?</th>\n",
       "      <th>How did you come to consume the antibiotic?</th>\n",
       "      <th>Have you experienced treatment failure from antibiotic consumption?</th>\n",
       "      <th>What was your understanding of treatment failure?</th>\n",
       "    </tr>\n",
       "  </thead>\n",
       "  <tbody>\n",
       "    <tr>\n",
       "      <th>0</th>\n",
       "      <td>7/6/2020 1:23:29</td>\n",
       "      <td>22</td>\n",
       "      <td>Male</td>\n",
       "      <td>Bangladeshi</td>\n",
       "      <td>BS.c</td>\n",
       "      <td>Microbiology</td>\n",
       "      <td>linconjnu@gmail.com</td>\n",
       "      <td>1742100015</td>\n",
       "      <td>Yes</td>\n",
       "      <td>Medicine used to treat infections</td>\n",
       "      <td>...</td>\n",
       "      <td>Citizen movement from all people</td>\n",
       "      <td>Our people are not educated enough to understa...</td>\n",
       "      <td>I don’t remember</td>\n",
       "      <td>NaN</td>\n",
       "      <td>NaN</td>\n",
       "      <td>NaN</td>\n",
       "      <td>NaN</td>\n",
       "      <td>NaN</td>\n",
       "      <td>NaN</td>\n",
       "      <td>NaN</td>\n",
       "    </tr>\n",
       "    <tr>\n",
       "      <th>1</th>\n",
       "      <td>7/6/2020 1:27:29</td>\n",
       "      <td>21</td>\n",
       "      <td>Male</td>\n",
       "      <td>Bangladeshi</td>\n",
       "      <td>Honours 2nd year</td>\n",
       "      <td>Microbiology</td>\n",
       "      <td>mdarafat01853467085@gmail.com</td>\n",
       "      <td>NaN</td>\n",
       "      <td>Yes</td>\n",
       "      <td>Medicine used to treat infections</td>\n",
       "      <td>...</td>\n",
       "      <td>Movement in media to form public opinion</td>\n",
       "      <td>Our people are not educated enough to understa...</td>\n",
       "      <td>I don’t remember</td>\n",
       "      <td>NaN</td>\n",
       "      <td>NaN</td>\n",
       "      <td>NaN</td>\n",
       "      <td>NaN</td>\n",
       "      <td>NaN</td>\n",
       "      <td>NaN</td>\n",
       "      <td>NaN</td>\n",
       "    </tr>\n",
       "    <tr>\n",
       "      <th>2</th>\n",
       "      <td>7/6/2020 2:49:03</td>\n",
       "      <td>21</td>\n",
       "      <td>Female</td>\n",
       "      <td>Bangladeshi</td>\n",
       "      <td>BSc</td>\n",
       "      <td>Microbiology</td>\n",
       "      <td>sadianasertanjin@gmail.com</td>\n",
       "      <td>NaN</td>\n",
       "      <td>Yes</td>\n",
       "      <td>Medicine used to treat infections</td>\n",
       "      <td>...</td>\n",
       "      <td>Professional movement by doctors, pharmaceutic...</td>\n",
       "      <td>Our people are not educated enough to understa...</td>\n",
       "      <td>I know precisely</td>\n",
       "      <td>I took multiple antibiotics multiple times</td>\n",
       "      <td>Tablet</td>\n",
       "      <td>I recovered from the symptoms quickly, which w...</td>\n",
       "      <td>Side-effects</td>\n",
       "      <td>A registered physician prescribed it for the s...</td>\n",
       "      <td>No</td>\n",
       "      <td>I suspect the quality of the antibiotic was no...</td>\n",
       "    </tr>\n",
       "    <tr>\n",
       "      <th>3</th>\n",
       "      <td>7/6/2020 1:48:30</td>\n",
       "      <td>21</td>\n",
       "      <td>Male</td>\n",
       "      <td>Bangladeshi</td>\n",
       "      <td>B.sc</td>\n",
       "      <td>Microbiology</td>\n",
       "      <td>prantoiftakherahmed@gmail.com</td>\n",
       "      <td>1957353494</td>\n",
       "      <td>No</td>\n",
       "      <td>Medicine used to treat viral disease</td>\n",
       "      <td>...</td>\n",
       "      <td>Legal movement by welfare lawyers</td>\n",
       "      <td>Our government does not endorse forming public...</td>\n",
       "      <td>I don’t remember</td>\n",
       "      <td>NaN</td>\n",
       "      <td>NaN</td>\n",
       "      <td>NaN</td>\n",
       "      <td>NaN</td>\n",
       "      <td>NaN</td>\n",
       "      <td>NaN</td>\n",
       "      <td>NaN</td>\n",
       "    </tr>\n",
       "    <tr>\n",
       "      <th>4</th>\n",
       "      <td>7/6/2020 2:12:32</td>\n",
       "      <td>20</td>\n",
       "      <td>Female</td>\n",
       "      <td>Bangladeshi</td>\n",
       "      <td>BSc</td>\n",
       "      <td>Microbiology</td>\n",
       "      <td>miftah.aourthy@gmail.com</td>\n",
       "      <td>1645762412</td>\n",
       "      <td>No</td>\n",
       "      <td>Medicine used to treat infections</td>\n",
       "      <td>...</td>\n",
       "      <td>Professional movement by doctors, pharmaceutic...</td>\n",
       "      <td>Our people are not educated enough to understa...</td>\n",
       "      <td>I don’t remember</td>\n",
       "      <td>NaN</td>\n",
       "      <td>NaN</td>\n",
       "      <td>NaN</td>\n",
       "      <td>NaN</td>\n",
       "      <td>NaN</td>\n",
       "      <td>NaN</td>\n",
       "      <td>NaN</td>\n",
       "    </tr>\n",
       "  </tbody>\n",
       "</table>\n",
       "<p>5 rows × 28 columns</p>\n",
       "</div>"
      ],
      "text/plain": [
       "          Timestamp  Age of Participant  Gender   Nationality  \\\n",
       "0  7/6/2020 1:23:29                  22    Male   Bangladeshi   \n",
       "1  7/6/2020 1:27:29                  21    Male  Bangladeshi    \n",
       "2  7/6/2020 2:49:03                  21  Female  Bangladeshi    \n",
       "3  7/6/2020 1:48:30                  21    Male  Bangladeshi    \n",
       "4  7/6/2020 2:12:32                  20  Female  Bangladeshi    \n",
       "\n",
       "     Academic Status Field of Education                          Email  \\\n",
       "0               BS.c       Microbiology            linconjnu@gmail.com   \n",
       "1  Honours 2nd year       Microbiology   mdarafat01853467085@gmail.com   \n",
       "2                BSc      Microbiology      sadianasertanjin@gmail.com   \n",
       "3               B.sc      Microbiology   prantoiftakherahmed@gmail.com   \n",
       "4                BSc      Microbiology        miftah.aourthy@gmail.com   \n",
       "\n",
       "  Contact Number (Optional)  \\\n",
       "0                1742100015   \n",
       "1                       NaN   \n",
       "2                       NaN   \n",
       "3                1957353494   \n",
       "4                1645762412   \n",
       "\n",
       "  Do you know about how antibiotics differ from other drugs?  \\\n",
       "0                                               Yes            \n",
       "1                                               Yes            \n",
       "2                                               Yes            \n",
       "3                                                No            \n",
       "4                                                No            \n",
       "\n",
       "  Pick the most appropriate definition of antibiotics  ...  \\\n",
       "0                 Medicine used to treat infections    ...   \n",
       "1                 Medicine used to treat infections    ...   \n",
       "2                 Medicine used to treat infections    ...   \n",
       "3              Medicine used to treat viral disease    ...   \n",
       "4                 Medicine used to treat infections    ...   \n",
       "\n",
       "  What type of movement on public health issues do you think will be effective in setting malpractices right?  \\\n",
       "0                  Citizen movement from all people                                                             \n",
       "1          Movement in media to form public opinion                                                             \n",
       "2  Professional movement by doctors, pharmaceutic...                                                            \n",
       "3                 Legal movement by welfare lawyers                                                             \n",
       "4  Professional movement by doctors, pharmaceutic...                                                            \n",
       "\n",
       "  Why do you think public health issues don’t get due importance in public opinion?  \\\n",
       "0  Our people are not educated enough to understa...                                  \n",
       "1  Our people are not educated enough to understa...                                  \n",
       "2  Our people are not educated enough to understa...                                  \n",
       "3  Our government does not endorse forming public...                                  \n",
       "4  Our people are not educated enough to understa...                                  \n",
       "\n",
       "  How many antibiotics have you taken over the past 3 years?  \\\n",
       "0                                  I don’t remember            \n",
       "1                                  I don’t remember            \n",
       "2                                  I know precisely            \n",
       "3                                  I don’t remember            \n",
       "4                                  I don’t remember            \n",
       "\n",
       "       What was the pattern of antibiotic use?  \\\n",
       "0                                          NaN   \n",
       "1                                          NaN   \n",
       "2  I took multiple antibiotics multiple times    \n",
       "3                                          NaN   \n",
       "4                                          NaN   \n",
       "\n",
       "  What was the formulation of the product used?  \\\n",
       "0                                           NaN   \n",
       "1                                           NaN   \n",
       "2                                        Tablet   \n",
       "3                                           NaN   \n",
       "4                                           NaN   \n",
       "\n",
       "  What was the best experience with the consumption of antibiotics?  \\\n",
       "0                                                NaN                  \n",
       "1                                                NaN                  \n",
       "2  I recovered from the symptoms quickly, which w...                  \n",
       "3                                                NaN                  \n",
       "4                                                NaN                  \n",
       "\n",
       "  What was the worst experience with the consumption of antibiotics?  \\\n",
       "0                                                NaN                   \n",
       "1                                                NaN                   \n",
       "2                                      Side-effects                    \n",
       "3                                                NaN                   \n",
       "4                                                NaN                   \n",
       "\n",
       "         How did you come to consume the antibiotic?  \\\n",
       "0                                                NaN   \n",
       "1                                                NaN   \n",
       "2  A registered physician prescribed it for the s...   \n",
       "3                                                NaN   \n",
       "4                                                NaN   \n",
       "\n",
       "  Have you experienced treatment failure from antibiotic consumption?  \\\n",
       "0                                                NaN                    \n",
       "1                                                NaN                    \n",
       "2                                                No                     \n",
       "3                                                NaN                    \n",
       "4                                                NaN                    \n",
       "\n",
       "   What was your understanding of treatment failure?  \n",
       "0                                                NaN  \n",
       "1                                                NaN  \n",
       "2  I suspect the quality of the antibiotic was no...  \n",
       "3                                                NaN  \n",
       "4                                                NaN  \n",
       "\n",
       "[5 rows x 28 columns]"
      ]
     },
     "execution_count": 3,
     "metadata": {},
     "output_type": "execute_result"
    }
   ],
   "source": [
    "df.head() "
   ]
  },
  {
   "cell_type": "markdown",
   "metadata": {},
   "source": [
    "## Exploring Data "
   ]
  },
  {
   "cell_type": "code",
   "execution_count": 4,
   "metadata": {},
   "outputs": [
    {
     "data": {
      "text/plain": [
       "Index(['Timestamp', 'Age of Participant', 'Gender', 'Nationality',\n",
       "       'Academic Status', 'Field of Education', 'Email',\n",
       "       'Contact Number (Optional)',\n",
       "       'Do you know about how antibiotics differ from other drugs?',\n",
       "       'Pick the most appropriate definition of antibiotics',\n",
       "       'How can you identify an antibiotic?',\n",
       "       'What is your idea about the importance of antibiotics?',\n",
       "       'What is the most dangerous impact of antibiotics?',\n",
       "       'What is your opinion about antibiotic usage?',\n",
       "       'What is your perception of drug-resistant germs?',\n",
       "       'Do you have idea about antibiotic resistance as a threat to public health?',\n",
       "       'Choose a statement that you feel is the best strategy to face antibiotic-resistance',\n",
       "       'Which of the strategies have you heard about against antibiotic resistance?',\n",
       "       'What type of movement on public health issues do you think will be effective in setting malpractices right?',\n",
       "       'Why do you think public health issues don’t get due importance in public opinion?',\n",
       "       'How many antibiotics have you taken over the past 3 years?',\n",
       "       'What was the pattern of antibiotic use?',\n",
       "       'What was the formulation of the product used?',\n",
       "       'What was the best experience with the consumption of antibiotics?',\n",
       "       'What was the worst experience with the consumption of antibiotics?',\n",
       "       'How did you come to consume the antibiotic?',\n",
       "       'Have you experienced treatment failure from antibiotic consumption?',\n",
       "       'What was your understanding of treatment failure?'],\n",
       "      dtype='object')"
      ]
     },
     "execution_count": 4,
     "metadata": {},
     "output_type": "execute_result"
    }
   ],
   "source": [
    "df.columns"
   ]
  },
  {
   "cell_type": "code",
   "execution_count": 5,
   "metadata": {},
   "outputs": [
    {
     "data": {
      "text/plain": [
       "(270, 28)"
      ]
     },
     "execution_count": 5,
     "metadata": {},
     "output_type": "execute_result"
    }
   ],
   "source": [
    "df.shape"
   ]
  },
  {
   "cell_type": "markdown",
   "metadata": {},
   "source": [
    "## Distribution of Age "
   ]
  },
  {
   "cell_type": "code",
   "execution_count": 6,
   "metadata": {},
   "outputs": [
    {
     "name": "stdout",
     "output_type": "stream",
     "text": [
      "Median age of participant:  21.0\n"
     ]
    }
   ],
   "source": [
    "# Median age of participant\n",
    "print(\"Median age of participant: \", df['Age of Participant'].median())"
   ]
  },
  {
   "cell_type": "code",
   "execution_count": 7,
   "metadata": {},
   "outputs": [
    {
     "data": {
      "text/plain": [
       "count    270.000000\n",
       "mean      22.100000\n",
       "std        3.192871\n",
       "min       14.000000\n",
       "25%       20.000000\n",
       "50%       21.000000\n",
       "75%       23.750000\n",
       "max       34.000000\n",
       "Name: Age of Participant, dtype: float64"
      ]
     },
     "execution_count": 7,
     "metadata": {},
     "output_type": "execute_result"
    }
   ],
   "source": [
    "# Summary \n",
    "df['Age of Participant'].describe() "
   ]
  },
  {
   "cell_type": "code",
   "execution_count": 102,
   "metadata": {},
   "outputs": [
    {
     "data": {
      "text/plain": [
       "<matplotlib.axes._subplots.AxesSubplot at 0x7f626bdcde90>"
      ]
     },
     "execution_count": 102,
     "metadata": {},
     "output_type": "execute_result"
    },
    {
     "data": {
      "image/png": "[encoded data removed]",
      "text/plain": [
       "<Figure size 432x288 with 1 Axes>"
      ]
     },
     "metadata": {
      "needs_background": "light"
     },
     "output_type": "display_data"
    }
   ],
   "source": [
    "sns.histplot(df['Age of Participant'])"
   ]
  },
  {
   "cell_type": "code",
   "execution_count": 101,
   "metadata": {},
   "outputs": [
    {
     "data": {
      "text/plain": [
       "<matplotlib.axes._subplots.AxesSubplot at 0x7f626be01ed0>"
      ]
     },
     "execution_count": 101,
     "metadata": {},
     "output_type": "execute_result"
    },
    {
     "data": {
      "image/png": "[encoded data removed]",
      "text/plain": [
       "<Figure size 432x288 with 1 Axes>"
      ]
     },
     "metadata": {
      "needs_background": "light"
     },
     "output_type": "display_data"
    }
   ],
   "source": [
    "# check normality \n",
    "sns.histplot(df['Age of Participant'], kde=True)"
   ]
  },
  {
   "cell_type": "code",
   "execution_count": 10,
   "metadata": {},
   "outputs": [
    {
     "data": {
      "text/plain": [
       "<matplotlib.axes._subplots.AxesSubplot at 0x7f6271a048d0>"
      ]
     },
     "execution_count": 10,
     "metadata": {},
     "output_type": "execute_result"
    },
    {
     "data": {
      "image/png": "[encoded data removed]",
      "text/plain": [
       "<Figure size 432x288 with 1 Axes>"
      ]
     },
     "metadata": {
      "needs_background": "light"
     },
     "output_type": "display_data"
    }
   ],
   "source": [
    "# any outliers?\n",
    "sns.boxplot(x='Age of Participant', data=df)"
   ]
  },
  {
   "cell_type": "code",
   "execution_count": 11,
   "metadata": {},
   "outputs": [
    {
     "data": {
      "text/plain": [
       "<matplotlib.axes._subplots.AxesSubplot at 0x7f6271990d50>"
      ]
     },
     "execution_count": 11,
     "metadata": {},
     "output_type": "execute_result"
    },
    {
     "data": {
      "image/png": "[encoded data removed]",
      "text/plain": [
       "<Figure size 432x288 with 1 Axes>"
      ]
     },
     "metadata": {
      "needs_background": "light"
     },
     "output_type": "display_data"
    }
   ],
   "source": [
    "sns.boxplot(x='Gender', y='Age of Participant', data=df)"
   ]
  },
  {
   "cell_type": "markdown",
   "metadata": {},
   "source": [
    "## Academic Status"
   ]
  },
  {
   "cell_type": "code",
   "execution_count": 12,
   "metadata": {},
   "outputs": [
    {
     "data": {
      "text/plain": [
       "Student             9\n",
       "BSc                 9\n",
       "HSC                 9\n",
       "Bsc                 9\n",
       "Graduate            6\n",
       "                   ..\n",
       "hons                1\n",
       "Graduation          1\n",
       "MSc in Science      1\n",
       "Honours 3rd year    1\n",
       "H.s.c               1\n",
       "Name: Academic Status, Length: 201, dtype: int64"
      ]
     },
     "execution_count": 12,
     "metadata": {},
     "output_type": "execute_result"
    }
   ],
   "source": [
    "df['Academic Status'].value_counts() "
   ]
  },
  {
   "cell_type": "markdown",
   "metadata": {},
   "source": [
    "## Field of Education"
   ]
  },
  {
   "cell_type": "code",
   "execution_count": 13,
   "metadata": {},
   "outputs": [
    {
     "data": {
      "text/plain": [
       "Microbiology                                     36\n",
       "Microbiology                                     26\n",
       "BBA                                               5\n",
       "Business                                          4\n",
       "Law                                               4\n",
       "                                                 ..\n",
       "Microbiology, Jagannath University                1\n",
       "Biochemistry and molecular biology                1\n",
       "Bsc in Industrial & production engineering        1\n",
       "Social Science and Humanities                     1\n",
       "Law                                               1\n",
       "Name: Field of Education, Length: 174, dtype: int64"
      ]
     },
     "execution_count": 13,
     "metadata": {},
     "output_type": "execute_result"
    }
   ],
   "source": [
    "df['Field of Education'].value_counts() "
   ]
  },
  {
   "cell_type": "code",
   "execution_count": null,
   "metadata": {},
   "outputs": [],
   "source": []
  },
  {
   "cell_type": "code",
   "execution_count": null,
   "metadata": {},
   "outputs": [],
   "source": []
  },
  {
   "cell_type": "markdown",
   "metadata": {},
   "source": [
    "# Analyzing Questions "
   ]
  },
  {
   "cell_type": "markdown",
   "metadata": {},
   "source": [
    "## Question #1: Do you know about how antibiotics differ from other drugs? "
   ]
  },
  {
   "cell_type": "code",
   "execution_count": 14,
   "metadata": {},
   "outputs": [
    {
     "data": {
      "text/plain": [
       "Yes     205\n",
       "No       64\n",
       "Name: Do you know about how antibiotics differ from other drugs?, dtype: int64"
      ]
     },
     "execution_count": 14,
     "metadata": {},
     "output_type": "execute_result"
    }
   ],
   "source": [
    "df['Do you know about how antibiotics differ from other drugs?'].value_counts() "
   ]
  },
  {
   "cell_type": "code",
   "execution_count": 15,
   "metadata": {},
   "outputs": [
    {
     "data": {
      "text/plain": [
       "Yes     0.762082\n",
       "No      0.237918\n",
       "Name: Do you know about how antibiotics differ from other drugs?, dtype: float64"
      ]
     },
     "execution_count": 15,
     "metadata": {},
     "output_type": "execute_result"
    }
   ],
   "source": [
    "# proportion \n",
    "df['Do you know about how antibiotics differ from other drugs?'].value_counts(normalize=True) "
   ]
  },
  {
   "cell_type": "code",
   "execution_count": 16,
   "metadata": {},
   "outputs": [
    {
     "data": {
      "text/plain": [
       "Yes     76.208178\n",
       "No      23.791822\n",
       "Name: Do you know about how antibiotics differ from other drugs?, dtype: float64"
      ]
     },
     "execution_count": 16,
     "metadata": {},
     "output_type": "execute_result"
    }
   ],
   "source": [
    "# % \n",
    "df['Do you know about how antibiotics differ from other drugs?'].value_counts(normalize=True) * 100"
   ]
  },
  {
   "cell_type": "code",
   "execution_count": 17,
   "metadata": {},
   "outputs": [
    {
     "data": {
      "text/plain": [
       "<matplotlib.axes._subplots.AxesSubplot at 0x7f627189b210>"
      ]
     },
     "execution_count": 17,
     "metadata": {},
     "output_type": "execute_result"
    },
    {
     "data": {
      "image/png": "[encoded data removed]",
      "text/plain": [
       "<Figure size 432x288 with 1 Axes>"
      ]
     },
     "metadata": {
      "needs_background": "light"
     },
     "output_type": "display_data"
    }
   ],
   "source": [
    "sns.countplot(x='Do you know about how antibiotics differ from other drugs?',data=df, hue='Gender')"
   ]
  },
  {
   "cell_type": "markdown",
   "metadata": {},
   "source": [
    "## Question #2: Pick the most appropriate definition of antibiotics"
   ]
  },
  {
   "cell_type": "code",
   "execution_count": 18,
   "metadata": {},
   "outputs": [
    {
     "data": {
      "text/plain": [
       "Medicine used to treat infections        140\n",
       "Medicine used to treat viral disease      93\n",
       "Medicine used to treat inflammation       26\n",
       "Medicine used to treat fever              10\n",
       "No                                         1\n",
       "Name: Pick the most appropriate definition of antibiotics, dtype: int64"
      ]
     },
     "execution_count": 18,
     "metadata": {},
     "output_type": "execute_result"
    }
   ],
   "source": [
    "df['Pick the most appropriate definition of antibiotics'].value_counts() "
   ]
  },
  {
   "cell_type": "code",
   "execution_count": 19,
   "metadata": {},
   "outputs": [
    {
     "data": {
      "text/plain": [
       "Medicine used to treat infections        0.518519\n",
       "Medicine used to treat viral disease     0.344444\n",
       "Medicine used to treat inflammation      0.096296\n",
       "Medicine used to treat fever             0.037037\n",
       "No                                       0.003704\n",
       "Name: Pick the most appropriate definition of antibiotics, dtype: float64"
      ]
     },
     "execution_count": 19,
     "metadata": {},
     "output_type": "execute_result"
    }
   ],
   "source": [
    "df['Pick the most appropriate definition of antibiotics'].value_counts(normalize=True)"
   ]
  },
  {
   "cell_type": "code",
   "execution_count": 20,
   "metadata": {},
   "outputs": [
    {
     "data": {
      "text/plain": [
       "Medicine used to treat infections        51.851852\n",
       "Medicine used to treat viral disease     34.444444\n",
       "Medicine used to treat inflammation       9.629630\n",
       "Medicine used to treat fever              3.703704\n",
       "No                                        0.370370\n",
       "Name: Pick the most appropriate definition of antibiotics, dtype: float64"
      ]
     },
     "execution_count": 20,
     "metadata": {},
     "output_type": "execute_result"
    }
   ],
   "source": [
    "df['Pick the most appropriate definition of antibiotics'].value_counts(normalize=True) * 100 "
   ]
  },
  {
   "cell_type": "markdown",
   "metadata": {},
   "source": [
    "## Question #3: How can you identify an antibiotic?"
   ]
  },
  {
   "cell_type": "code",
   "execution_count": 21,
   "metadata": {},
   "outputs": [
    {
     "data": {
      "text/plain": [
       "From the pharmaceutical composition      98\n",
       "From the datasheet with the medicine     87\n",
       "I have no idea                           62\n",
       "From name                                22\n",
       "Medicine used to treat infections         1\n",
       "Name: How can you identify an antibiotic?, dtype: int64"
      ]
     },
     "execution_count": 21,
     "metadata": {},
     "output_type": "execute_result"
    }
   ],
   "source": [
    "df['How can you identify an antibiotic?'].value_counts() "
   ]
  },
  {
   "cell_type": "code",
   "execution_count": 22,
   "metadata": {},
   "outputs": [
    {
     "data": {
      "text/plain": [
       "From the pharmaceutical composition      0.362963\n",
       "From the datasheet with the medicine     0.322222\n",
       "I have no idea                           0.229630\n",
       "From name                                0.081481\n",
       "Medicine used to treat infections        0.003704\n",
       "Name: How can you identify an antibiotic?, dtype: float64"
      ]
     },
     "execution_count": 22,
     "metadata": {},
     "output_type": "execute_result"
    }
   ],
   "source": [
    "df['How can you identify an antibiotic?'].value_counts(normalize=True) "
   ]
  },
  {
   "cell_type": "code",
   "execution_count": 23,
   "metadata": {},
   "outputs": [
    {
     "data": {
      "text/plain": [
       "From the pharmaceutical composition      36.296296\n",
       "From the datasheet with the medicine     32.222222\n",
       "I have no idea                           22.962963\n",
       "From name                                 8.148148\n",
       "Medicine used to treat infections         0.370370\n",
       "Name: How can you identify an antibiotic?, dtype: float64"
      ]
     },
     "execution_count": 23,
     "metadata": {},
     "output_type": "execute_result"
    }
   ],
   "source": [
    "df['How can you identify an antibiotic?'].value_counts(normalize=True) * 100"
   ]
  },
  {
   "cell_type": "markdown",
   "metadata": {},
   "source": [
    "## Question #4: What is your idea about the importance of antibiotics?"
   ]
  },
  {
   "cell_type": "code",
   "execution_count": 24,
   "metadata": {},
   "outputs": [
    {
     "data": {
      "text/plain": [
       "They are the reason infectious diseases have been controlled     140\n",
       "They are the reason we have reduced diseases                      68\n",
       "They are the reason epidemics have been controlled                40\n",
       "They are the reason hospitalization has been reduced              21\n",
       "From the pharmaceutical composition                                1\n",
       "Name: What is your idea about the importance of antibiotics?, dtype: int64"
      ]
     },
     "execution_count": 24,
     "metadata": {},
     "output_type": "execute_result"
    }
   ],
   "source": [
    "df['What is your idea about the importance of antibiotics?'].value_counts()"
   ]
  },
  {
   "cell_type": "code",
   "execution_count": 25,
   "metadata": {},
   "outputs": [
    {
     "data": {
      "text/plain": [
       "They are the reason infectious diseases have been controlled     0.518519\n",
       "They are the reason we have reduced diseases                     0.251852\n",
       "They are the reason epidemics have been controlled               0.148148\n",
       "They are the reason hospitalization has been reduced             0.077778\n",
       "From the pharmaceutical composition                              0.003704\n",
       "Name: What is your idea about the importance of antibiotics?, dtype: float64"
      ]
     },
     "execution_count": 25,
     "metadata": {},
     "output_type": "execute_result"
    }
   ],
   "source": [
    "df['What is your idea about the importance of antibiotics?'].value_counts(normalize=True)"
   ]
  },
  {
   "cell_type": "code",
   "execution_count": 26,
   "metadata": {},
   "outputs": [
    {
     "data": {
      "text/plain": [
       "They are the reason infectious diseases have been controlled     51.851852\n",
       "They are the reason we have reduced diseases                     25.185185\n",
       "They are the reason epidemics have been controlled               14.814815\n",
       "They are the reason hospitalization has been reduced              7.777778\n",
       "From the pharmaceutical composition                               0.370370\n",
       "Name: What is your idea about the importance of antibiotics?, dtype: float64"
      ]
     },
     "execution_count": 26,
     "metadata": {},
     "output_type": "execute_result"
    }
   ],
   "source": [
    "df['What is your idea about the importance of antibiotics?'].value_counts(normalize=True) * 100"
   ]
  },
  {
   "cell_type": "markdown",
   "metadata": {},
   "source": [
    "## Question #5:  What is the most dangerous impact of antibiotics?"
   ]
  },
  {
   "cell_type": "code",
   "execution_count": 27,
   "metadata": {},
   "outputs": [
    {
     "data": {
      "text/plain": [
       "Antibiotic usage spreads antibiotic resistance                   210\n",
       "Antibiotic consumption damages health                             47\n",
       "Antibiotic consumption increases the cost of healthcare            8\n",
       "Antibiotic production pollutes the environment                     4\n",
       "They are the reason infectious diseases have been controlled       1\n",
       "Name: What is the most dangerous impact of antibiotics?, dtype: int64"
      ]
     },
     "execution_count": 27,
     "metadata": {},
     "output_type": "execute_result"
    }
   ],
   "source": [
    "df['What is the most dangerous impact of antibiotics?'].value_counts() "
   ]
  },
  {
   "cell_type": "code",
   "execution_count": 46,
   "metadata": {},
   "outputs": [
    {
     "data": {
      "text/plain": [
       "Antibiotic usage spreads antibiotic resistance                   0.777778\n",
       "Antibiotic consumption damages health                            0.174074\n",
       "Antibiotic consumption increases the cost of healthcare          0.029630\n",
       "Antibiotic production pollutes the environment                   0.014815\n",
       "They are the reason infectious diseases have been controlled     0.003704\n",
       "Name: What is the most dangerous impact of antibiotics?, dtype: float64"
      ]
     },
     "execution_count": 46,
     "metadata": {},
     "output_type": "execute_result"
    }
   ],
   "source": [
    "df['What is the most dangerous impact of antibiotics?'].value_counts(normalize=True) "
   ]
  },
  {
   "cell_type": "code",
   "execution_count": 47,
   "metadata": {},
   "outputs": [
    {
     "data": {
      "text/plain": [
       "Antibiotic usage spreads antibiotic resistance                   77.777778\n",
       "Antibiotic consumption damages health                            17.407407\n",
       "Antibiotic consumption increases the cost of healthcare           2.962963\n",
       "Antibiotic production pollutes the environment                    1.481481\n",
       "They are the reason infectious diseases have been controlled      0.370370\n",
       "Name: What is the most dangerous impact of antibiotics?, dtype: float64"
      ]
     },
     "execution_count": 47,
     "metadata": {},
     "output_type": "execute_result"
    }
   ],
   "source": [
    "df['What is the most dangerous impact of antibiotics?'].value_counts(normalize=True) * 100"
   ]
  },
  {
   "cell_type": "markdown",
   "metadata": {},
   "source": [
    "## Question #6: What is your opinion about antibiotic usage?"
   ]
  },
  {
   "cell_type": "code",
   "execution_count": 28,
   "metadata": {},
   "outputs": [
    {
     "data": {
      "text/plain": [
       "Antibiotics should be used with proper restrictions because they have side-effects                       224\n",
       "Antibiotics must be restricted because of the rise of multidrug-resistant germs                           44\n",
       "Antibiotics consumption must be encouraged because they make profits for the pharmaceutical industry       1\n",
       "Antibiotic usage spreads antibiotic resistance                                                             1\n",
       "Name: What is your opinion about antibiotic usage?, dtype: int64"
      ]
     },
     "execution_count": 28,
     "metadata": {},
     "output_type": "execute_result"
    }
   ],
   "source": [
    "df['What is your opinion about antibiotic usage?'].value_counts() "
   ]
  },
  {
   "cell_type": "code",
   "execution_count": 48,
   "metadata": {},
   "outputs": [
    {
     "data": {
      "text/plain": [
       "Antibiotics should be used with proper restrictions because they have side-effects                       0.829630\n",
       "Antibiotics must be restricted because of the rise of multidrug-resistant germs                          0.162963\n",
       "Antibiotics consumption must be encouraged because they make profits for the pharmaceutical industry     0.003704\n",
       "Antibiotic usage spreads antibiotic resistance                                                           0.003704\n",
       "Name: What is your opinion about antibiotic usage?, dtype: float64"
      ]
     },
     "execution_count": 48,
     "metadata": {},
     "output_type": "execute_result"
    }
   ],
   "source": [
    "df['What is your opinion about antibiotic usage?'].value_counts(normalize=True) "
   ]
  },
  {
   "cell_type": "code",
   "execution_count": 49,
   "metadata": {},
   "outputs": [
    {
     "data": {
      "text/plain": [
       "Antibiotics should be used with proper restrictions because they have side-effects                       82.962963\n",
       "Antibiotics must be restricted because of the rise of multidrug-resistant germs                          16.296296\n",
       "Antibiotics consumption must be encouraged because they make profits for the pharmaceutical industry      0.370370\n",
       "Antibiotic usage spreads antibiotic resistance                                                            0.370370\n",
       "Name: What is your opinion about antibiotic usage?, dtype: float64"
      ]
     },
     "execution_count": 49,
     "metadata": {},
     "output_type": "execute_result"
    }
   ],
   "source": [
    "df['What is your opinion about antibiotic usage?'].value_counts(normalize=True)*100"
   ]
  },
  {
   "cell_type": "markdown",
   "metadata": {},
   "source": [
    "## Question #7: What is your perception of drug-resistant germs?"
   ]
  },
  {
   "cell_type": "code",
   "execution_count": 50,
   "metadata": {},
   "outputs": [
    {
     "data": {
      "text/plain": [
       "I want to act directly to counter antibiotic-resistance                             94\n",
       "I am concerned about it                                                             90\n",
       "I don’t know about it                                                               81\n",
       "I don’t care about it                                                                4\n",
       "Antibiotics must be restricted because of the rise of multidrug-resistant germs      1\n",
       "Name: What is your perception of drug-resistant germs?, dtype: int64"
      ]
     },
     "execution_count": 50,
     "metadata": {},
     "output_type": "execute_result"
    }
   ],
   "source": [
    "df['What is your perception of drug-resistant germs?'].value_counts() "
   ]
  },
  {
   "cell_type": "code",
   "execution_count": 51,
   "metadata": {},
   "outputs": [
    {
     "data": {
      "text/plain": [
       "I want to act directly to counter antibiotic-resistance                             0.348148\n",
       "I am concerned about it                                                             0.333333\n",
       "I don’t know about it                                                               0.300000\n",
       "I don’t care about it                                                               0.014815\n",
       "Antibiotics must be restricted because of the rise of multidrug-resistant germs     0.003704\n",
       "Name: What is your perception of drug-resistant germs?, dtype: float64"
      ]
     },
     "execution_count": 51,
     "metadata": {},
     "output_type": "execute_result"
    }
   ],
   "source": [
    "df['What is your perception of drug-resistant germs?'].value_counts(normalize=True) "
   ]
  },
  {
   "cell_type": "code",
   "execution_count": 52,
   "metadata": {},
   "outputs": [
    {
     "data": {
      "text/plain": [
       "I want to act directly to counter antibiotic-resistance                             34.814815\n",
       "I am concerned about it                                                             33.333333\n",
       "I don’t know about it                                                               30.000000\n",
       "I don’t care about it                                                                1.481481\n",
       "Antibiotics must be restricted because of the rise of multidrug-resistant germs      0.370370\n",
       "Name: What is your perception of drug-resistant germs?, dtype: float64"
      ]
     },
     "execution_count": 52,
     "metadata": {},
     "output_type": "execute_result"
    }
   ],
   "source": [
    "df['What is your perception of drug-resistant germs?'].value_counts(normalize=True)*100"
   ]
  },
  {
   "cell_type": "markdown",
   "metadata": {},
   "source": [
    "## Question #8: Do you have idea about antibiotic resistance as a threat to public health?"
   ]
  },
  {
   "cell_type": "code",
   "execution_count": 53,
   "metadata": {},
   "outputs": [
    {
     "data": {
      "text/plain": [
       "Yes                         184\n",
       "No                           85\n",
       "I am concerned about it       1\n",
       "Name: Do you have idea about antibiotic resistance as a threat to public health?, dtype: int64"
      ]
     },
     "execution_count": 53,
     "metadata": {},
     "output_type": "execute_result"
    }
   ],
   "source": [
    "df['Do you have idea about antibiotic resistance as a threat to public health?'].value_counts() "
   ]
  },
  {
   "cell_type": "code",
   "execution_count": 54,
   "metadata": {},
   "outputs": [
    {
     "data": {
      "text/plain": [
       "Yes                         0.681481\n",
       "No                          0.314815\n",
       "I am concerned about it     0.003704\n",
       "Name: Do you have idea about antibiotic resistance as a threat to public health?, dtype: float64"
      ]
     },
     "execution_count": 54,
     "metadata": {},
     "output_type": "execute_result"
    }
   ],
   "source": [
    "df['Do you have idea about antibiotic resistance as a threat to public health?'].value_counts(normalize=True) "
   ]
  },
  {
   "cell_type": "code",
   "execution_count": 55,
   "metadata": {},
   "outputs": [
    {
     "data": {
      "text/plain": [
       "Yes                         68.148148\n",
       "No                          31.481481\n",
       "I am concerned about it      0.370370\n",
       "Name: Do you have idea about antibiotic resistance as a threat to public health?, dtype: float64"
      ]
     },
     "execution_count": 55,
     "metadata": {},
     "output_type": "execute_result"
    }
   ],
   "source": [
    "df['Do you have idea about antibiotic resistance as a threat to public health?'].value_counts(normalize=True)*100"
   ]
  },
  {
   "cell_type": "markdown",
   "metadata": {},
   "source": [
    "## Question #9: Choose a statement that you feel is the best strategy to face antibiotic-resistance"
   ]
  },
  {
   "cell_type": "code",
   "execution_count": 56,
   "metadata": {},
   "outputs": [
    {
     "data": {
      "text/plain": [
       "There should be a National Guideline and restriction on antibiotic usage                156\n",
       "Sanitation and cleanliness should be the first step; antibiotics should be the last     109\n",
       "Antibiotics should always be used without consideration of antibiotic resistance          3\n",
       "Anyone can use antibiotics as chosen                                                      1\n",
       "Yes                                                                                       1\n",
       "Name: Choose a statement that you feel is the best strategy to face antibiotic-resistance, dtype: int64"
      ]
     },
     "execution_count": 56,
     "metadata": {},
     "output_type": "execute_result"
    }
   ],
   "source": [
    "df['Choose a statement that you feel is the best strategy to face antibiotic-resistance'].value_counts() "
   ]
  },
  {
   "cell_type": "code",
   "execution_count": 58,
   "metadata": {},
   "outputs": [
    {
     "data": {
      "text/plain": [
       "There should be a National Guideline and restriction on antibiotic usage                0.577778\n",
       "Sanitation and cleanliness should be the first step; antibiotics should be the last     0.403704\n",
       "Antibiotics should always be used without consideration of antibiotic resistance        0.011111\n",
       "Anyone can use antibiotics as chosen                                                    0.003704\n",
       "Yes                                                                                     0.003704\n",
       "Name: Choose a statement that you feel is the best strategy to face antibiotic-resistance, dtype: float64"
      ]
     },
     "execution_count": 58,
     "metadata": {},
     "output_type": "execute_result"
    }
   ],
   "source": [
    "df['Choose a statement that you feel is the best strategy to face antibiotic-resistance'].value_counts(normalize=True) "
   ]
  },
  {
   "cell_type": "code",
   "execution_count": 59,
   "metadata": {},
   "outputs": [
    {
     "data": {
      "text/plain": [
       "There should be a National Guideline and restriction on antibiotic usage                57.777778\n",
       "Sanitation and cleanliness should be the first step; antibiotics should be the last     40.370370\n",
       "Antibiotics should always be used without consideration of antibiotic resistance         1.111111\n",
       "Anyone can use antibiotics as chosen                                                     0.370370\n",
       "Yes                                                                                      0.370370\n",
       "Name: Choose a statement that you feel is the best strategy to face antibiotic-resistance, dtype: float64"
      ]
     },
     "execution_count": 59,
     "metadata": {},
     "output_type": "execute_result"
    }
   ],
   "source": [
    "df['Choose a statement that you feel is the best strategy to face antibiotic-resistance'].value_counts(normalize=True)*100"
   ]
  },
  {
   "cell_type": "markdown",
   "metadata": {},
   "source": [
    "## Question #10: Which of the strategies have you heard about against antibiotic resistance?"
   ]
  },
  {
   "cell_type": "code",
   "execution_count": 63,
   "metadata": {},
   "outputs": [
    {
     "data": {
      "text/plain": [
       "Guidelines on antibiotic usage for humans, animals, agriculture, and environment     91\n",
       "Implementation of strict law regarding the unnecessary use of antibiotics            86\n",
       "Regulated production and distribution of antibiotics                                 59\n",
       "Antibiotic Stewardship                                                               33\n",
       "There should be a National Guideline and restriction on antibiotic usage              1\n",
       "Name: Which of the strategies have you heard about against antibiotic resistance?, dtype: int64"
      ]
     },
     "execution_count": 63,
     "metadata": {},
     "output_type": "execute_result"
    }
   ],
   "source": [
    "df['Which of the strategies have you heard about against antibiotic resistance?'].value_counts()"
   ]
  },
  {
   "cell_type": "code",
   "execution_count": 62,
   "metadata": {},
   "outputs": [
    {
     "data": {
      "text/plain": [
       "Guidelines on antibiotic usage for humans, animals, agriculture, and environment     0.337037\n",
       "Implementation of strict law regarding the unnecessary use of antibiotics            0.318519\n",
       "Regulated production and distribution of antibiotics                                 0.218519\n",
       "Antibiotic Stewardship                                                               0.122222\n",
       "There should be a National Guideline and restriction on antibiotic usage             0.003704\n",
       "Name: Which of the strategies have you heard about against antibiotic resistance?, dtype: float64"
      ]
     },
     "execution_count": 62,
     "metadata": {},
     "output_type": "execute_result"
    }
   ],
   "source": [
    "df['Which of the strategies have you heard about against antibiotic resistance?'].value_counts(normalize=True)"
   ]
  },
  {
   "cell_type": "code",
   "execution_count": 61,
   "metadata": {},
   "outputs": [
    {
     "data": {
      "text/plain": [
       "Guidelines on antibiotic usage for humans, animals, agriculture, and environment     33.703704\n",
       "Implementation of strict law regarding the unnecessary use of antibiotics            31.851852\n",
       "Regulated production and distribution of antibiotics                                 21.851852\n",
       "Antibiotic Stewardship                                                               12.222222\n",
       "There should be a National Guideline and restriction on antibiotic usage              0.370370\n",
       "Name: Which of the strategies have you heard about against antibiotic resistance?, dtype: float64"
      ]
     },
     "execution_count": 61,
     "metadata": {},
     "output_type": "execute_result"
    }
   ],
   "source": [
    "df['Which of the strategies have you heard about against antibiotic resistance?'].value_counts(normalize=True)*100"
   ]
  },
  {
   "cell_type": "markdown",
   "metadata": {},
   "source": [
    "## Question #11: What type of movement on public health issues do you think will be effective in setting malpractices right?"
   ]
  },
  {
   "cell_type": "code",
   "execution_count": 68,
   "metadata": {},
   "outputs": [
    {
     "data": {
      "text/plain": [
       "Citizen movement from all people                                                              89\n",
       "Professional movement by doctors, pharmaceuticals, hospital authority and health officers     83\n",
       "Movement in media to form public opinion                                                      67\n",
       "Legal movement by welfare lawyers                                                             30\n",
       "Implementation of strict law regarding the unnecessary use of antibiotics                      1\n",
       "Name: What type of movement on public health issues do you think will be effective in setting malpractices right?, dtype: int64"
      ]
     },
     "execution_count": 68,
     "metadata": {},
     "output_type": "execute_result"
    }
   ],
   "source": [
    "df['What type of movement on public health issues do you think will be effective in setting malpractices right?'].value_counts()"
   ]
  },
  {
   "cell_type": "code",
   "execution_count": 69,
   "metadata": {},
   "outputs": [
    {
     "data": {
      "text/plain": [
       "Citizen movement from all people                                                              0.329630\n",
       "Professional movement by doctors, pharmaceuticals, hospital authority and health officers     0.307407\n",
       "Movement in media to form public opinion                                                      0.248148\n",
       "Legal movement by welfare lawyers                                                             0.111111\n",
       "Implementation of strict law regarding the unnecessary use of antibiotics                     0.003704\n",
       "Name: What type of movement on public health issues do you think will be effective in setting malpractices right?, dtype: float64"
      ]
     },
     "execution_count": 69,
     "metadata": {},
     "output_type": "execute_result"
    }
   ],
   "source": [
    "df['What type of movement on public health issues do you think will be effective in setting malpractices right?'].value_counts(normalize=True)"
   ]
  },
  {
   "cell_type": "code",
   "execution_count": 70,
   "metadata": {},
   "outputs": [
    {
     "data": {
      "text/plain": [
       "Citizen movement from all people                                                              32.962963\n",
       "Professional movement by doctors, pharmaceuticals, hospital authority and health officers     30.740741\n",
       "Movement in media to form public opinion                                                      24.814815\n",
       "Legal movement by welfare lawyers                                                             11.111111\n",
       "Implementation of strict law regarding the unnecessary use of antibiotics                      0.370370\n",
       "Name: What type of movement on public health issues do you think will be effective in setting malpractices right?, dtype: float64"
      ]
     },
     "execution_count": 70,
     "metadata": {},
     "output_type": "execute_result"
    }
   ],
   "source": [
    "df['What type of movement on public health issues do you think will be effective in setting malpractices right?'].value_counts(normalize=True)*100"
   ]
  },
  {
   "cell_type": "markdown",
   "metadata": {},
   "source": [
    "## Question #12: Why do you think public health issues don’t get due importance in public opinion?"
   ]
  },
  {
   "cell_type": "code",
   "execution_count": 71,
   "metadata": {},
   "outputs": [
    {
     "data": {
      "text/plain": [
       "Our people are not educated enough to understand healthcare and public health issues          147\n",
       "Our health professionals are not active in developing public opinion about healthcare          65\n",
       "Our media is not active in spreading awareness                                                 29\n",
       "Our government does not endorse forming public opinion on public health policies               25\n",
       "Professional movement by doctors, pharmaceuticals, hospital authority and health officers       1\n",
       "Name: Why do you think public health issues don’t get due importance in public opinion?, dtype: int64"
      ]
     },
     "execution_count": 71,
     "metadata": {},
     "output_type": "execute_result"
    }
   ],
   "source": [
    "df['Why do you think public health issues don’t get due importance in public opinion?'].value_counts() "
   ]
  },
  {
   "cell_type": "code",
   "execution_count": 72,
   "metadata": {},
   "outputs": [
    {
     "data": {
      "text/plain": [
       "Our people are not educated enough to understand healthcare and public health issues          0.550562\n",
       "Our health professionals are not active in developing public opinion about healthcare         0.243446\n",
       "Our media is not active in spreading awareness                                                0.108614\n",
       "Our government does not endorse forming public opinion on public health policies              0.093633\n",
       "Professional movement by doctors, pharmaceuticals, hospital authority and health officers     0.003745\n",
       "Name: Why do you think public health issues don’t get due importance in public opinion?, dtype: float64"
      ]
     },
     "execution_count": 72,
     "metadata": {},
     "output_type": "execute_result"
    }
   ],
   "source": [
    "df['Why do you think public health issues don’t get due importance in public opinion?'].value_counts(normalize=True) "
   ]
  },
  {
   "cell_type": "code",
   "execution_count": 73,
   "metadata": {},
   "outputs": [
    {
     "data": {
      "text/plain": [
       "Our people are not educated enough to understand healthcare and public health issues          55.056180\n",
       "Our health professionals are not active in developing public opinion about healthcare         24.344569\n",
       "Our media is not active in spreading awareness                                                10.861423\n",
       "Our government does not endorse forming public opinion on public health policies               9.363296\n",
       "Professional movement by doctors, pharmaceuticals, hospital authority and health officers      0.374532\n",
       "Name: Why do you think public health issues don’t get due importance in public opinion?, dtype: float64"
      ]
     },
     "execution_count": 73,
     "metadata": {},
     "output_type": "execute_result"
    }
   ],
   "source": [
    "df['Why do you think public health issues don’t get due importance in public opinion?'].value_counts(normalize=True)*100"
   ]
  },
  {
   "cell_type": "markdown",
   "metadata": {},
   "source": [
    "## Question #13: How many antibiotics have you taken over the past 3 years?"
   ]
  },
  {
   "cell_type": "code",
   "execution_count": 74,
   "metadata": {},
   "outputs": [
    {
     "data": {
      "text/plain": [
       "I don’t remember                                                                         145\n",
       "I know precisely                                                                          71\n",
       "None                                                                                      46\n",
       "I don’t care                                                                               4\n",
       "Our people are not educated enough to understand healthcare and public health issues       3\n",
       "Our media is not active in spreading awareness                                             1\n",
       "Name: How many antibiotics have you taken over the past 3 years?, dtype: int64"
      ]
     },
     "execution_count": 74,
     "metadata": {},
     "output_type": "execute_result"
    }
   ],
   "source": [
    "df['How many antibiotics have you taken over the past 3 years?'].value_counts() "
   ]
  },
  {
   "cell_type": "code",
   "execution_count": 75,
   "metadata": {},
   "outputs": [
    {
     "data": {
      "text/plain": [
       "I don’t remember                                                                         0.537037\n",
       "I know precisely                                                                         0.262963\n",
       "None                                                                                     0.170370\n",
       "I don’t care                                                                             0.014815\n",
       "Our people are not educated enough to understand healthcare and public health issues     0.011111\n",
       "Our media is not active in spreading awareness                                           0.003704\n",
       "Name: How many antibiotics have you taken over the past 3 years?, dtype: float64"
      ]
     },
     "execution_count": 75,
     "metadata": {},
     "output_type": "execute_result"
    }
   ],
   "source": [
    "df['How many antibiotics have you taken over the past 3 years?'].value_counts(normalize=True) "
   ]
  },
  {
   "cell_type": "code",
   "execution_count": 76,
   "metadata": {},
   "outputs": [
    {
     "data": {
      "text/plain": [
       "I don’t remember                                                                         53.703704\n",
       "I know precisely                                                                         26.296296\n",
       "None                                                                                     17.037037\n",
       "I don’t care                                                                              1.481481\n",
       "Our people are not educated enough to understand healthcare and public health issues      1.111111\n",
       "Our media is not active in spreading awareness                                            0.370370\n",
       "Name: How many antibiotics have you taken over the past 3 years?, dtype: float64"
      ]
     },
     "execution_count": 76,
     "metadata": {},
     "output_type": "execute_result"
    }
   ],
   "source": [
    "df['How many antibiotics have you taken over the past 3 years?'].value_counts(normalize=True)*100"
   ]
  },
  {
   "cell_type": "markdown",
   "metadata": {},
   "source": [
    "## Question #14: What was the pattern of antibiotic use?"
   ]
  },
  {
   "cell_type": "code",
   "execution_count": 77,
   "metadata": {},
   "outputs": [
    {
     "data": {
      "text/plain": [
       "I took multiple antibiotics multiple times     36\n",
       "I took the same antibiotic multiple times      19\n",
       "I took antibiotics only once                   12\n",
       "I don’t remember what antibiotics I took        4\n",
       "I don’t remember                                3\n",
       "None                                            1\n",
       "Name: What was the pattern of antibiotic use?, dtype: int64"
      ]
     },
     "execution_count": 77,
     "metadata": {},
     "output_type": "execute_result"
    }
   ],
   "source": [
    "df['What was the pattern of antibiotic use?'].value_counts() "
   ]
  },
  {
   "cell_type": "code",
   "execution_count": 78,
   "metadata": {},
   "outputs": [
    {
     "data": {
      "text/plain": [
       "I took multiple antibiotics multiple times     0.480000\n",
       "I took the same antibiotic multiple times      0.253333\n",
       "I took antibiotics only once                   0.160000\n",
       "I don’t remember what antibiotics I took       0.053333\n",
       "I don’t remember                               0.040000\n",
       "None                                           0.013333\n",
       "Name: What was the pattern of antibiotic use?, dtype: float64"
      ]
     },
     "execution_count": 78,
     "metadata": {},
     "output_type": "execute_result"
    }
   ],
   "source": [
    "df['What was the pattern of antibiotic use?'].value_counts(normalize=True) "
   ]
  },
  {
   "cell_type": "code",
   "execution_count": 79,
   "metadata": {},
   "outputs": [
    {
     "data": {
      "text/plain": [
       "I took multiple antibiotics multiple times     48.000000\n",
       "I took the same antibiotic multiple times      25.333333\n",
       "I took antibiotics only once                   16.000000\n",
       "I don’t remember what antibiotics I took        5.333333\n",
       "I don’t remember                                4.000000\n",
       "None                                            1.333333\n",
       "Name: What was the pattern of antibiotic use?, dtype: float64"
      ]
     },
     "execution_count": 79,
     "metadata": {},
     "output_type": "execute_result"
    }
   ],
   "source": [
    "df['What was the pattern of antibiotic use?'].value_counts(normalize=True)*100"
   ]
  },
  {
   "cell_type": "markdown",
   "metadata": {},
   "source": [
    "## Question #15: What was the formulation of the product used?"
   ]
  },
  {
   "cell_type": "code",
   "execution_count": 80,
   "metadata": {},
   "outputs": [
    {
     "data": {
      "text/plain": [
       "Tablet                     52\n",
       "Oral, Tablet                6\n",
       "Oral                        6\n",
       "Oral, Tablet, Injection     3\n",
       "Tablet, Injection           2\n",
       "Oral, Oinment               1\n",
       "Tablet, Oinment             1\n",
       "Name: What was the formulation of the product used?, dtype: int64"
      ]
     },
     "execution_count": 80,
     "metadata": {},
     "output_type": "execute_result"
    }
   ],
   "source": [
    "df['What was the formulation of the product used?'].value_counts() "
   ]
  },
  {
   "cell_type": "code",
   "execution_count": 81,
   "metadata": {},
   "outputs": [
    {
     "data": {
      "text/plain": [
       "Tablet                     0.732394\n",
       "Oral, Tablet               0.084507\n",
       "Oral                       0.084507\n",
       "Oral, Tablet, Injection    0.042254\n",
       "Tablet, Injection          0.028169\n",
       "Oral, Oinment              0.014085\n",
       "Tablet, Oinment            0.014085\n",
       "Name: What was the formulation of the product used?, dtype: float64"
      ]
     },
     "execution_count": 81,
     "metadata": {},
     "output_type": "execute_result"
    }
   ],
   "source": [
    "df['What was the formulation of the product used?'].value_counts(normalize=True) "
   ]
  },
  {
   "cell_type": "code",
   "execution_count": 82,
   "metadata": {},
   "outputs": [
    {
     "data": {
      "text/plain": [
       "Tablet                     73.239437\n",
       "Oral, Tablet                8.450704\n",
       "Oral                        8.450704\n",
       "Oral, Tablet, Injection     4.225352\n",
       "Tablet, Injection           2.816901\n",
       "Oral, Oinment               1.408451\n",
       "Tablet, Oinment             1.408451\n",
       "Name: What was the formulation of the product used?, dtype: float64"
      ]
     },
     "execution_count": 82,
     "metadata": {},
     "output_type": "execute_result"
    }
   ],
   "source": [
    "df['What was the formulation of the product used?'].value_counts(normalize=True)*100"
   ]
  },
  {
   "cell_type": "markdown",
   "metadata": {},
   "source": [
    "## Question #16: What was the best experience with the consumption of antibiotics?"
   ]
  },
  {
   "cell_type": "code",
   "execution_count": 83,
   "metadata": {},
   "outputs": [
    {
     "data": {
      "text/plain": [
       "I recovered from the symptoms quickly, which was not treatable with other medicines     44\n",
       "I felt good that my infection will not spread under antibiotic usage                    18\n",
       "I felt good to take medicines regularly                                                  5\n",
       "I felt confident about recovery when antibiotics were prescribed                         4\n",
       "Name: What was the best experience with the consumption of antibiotics?, dtype: int64"
      ]
     },
     "execution_count": 83,
     "metadata": {},
     "output_type": "execute_result"
    }
   ],
   "source": [
    "df['What was the best experience with the consumption of antibiotics?'].value_counts() "
   ]
  },
  {
   "cell_type": "code",
   "execution_count": 84,
   "metadata": {},
   "outputs": [
    {
     "data": {
      "text/plain": [
       "I recovered from the symptoms quickly, which was not treatable with other medicines     0.619718\n",
       "I felt good that my infection will not spread under antibiotic usage                    0.253521\n",
       "I felt good to take medicines regularly                                                 0.070423\n",
       "I felt confident about recovery when antibiotics were prescribed                        0.056338\n",
       "Name: What was the best experience with the consumption of antibiotics?, dtype: float64"
      ]
     },
     "execution_count": 84,
     "metadata": {},
     "output_type": "execute_result"
    }
   ],
   "source": [
    "df['What was the best experience with the consumption of antibiotics?'].value_counts(normalize=True) "
   ]
  },
  {
   "cell_type": "code",
   "execution_count": 85,
   "metadata": {},
   "outputs": [
    {
     "data": {
      "text/plain": [
       "I recovered from the symptoms quickly, which was not treatable with other medicines     61.971831\n",
       "I felt good that my infection will not spread under antibiotic usage                    25.352113\n",
       "I felt good to take medicines regularly                                                  7.042254\n",
       "I felt confident about recovery when antibiotics were prescribed                         5.633803\n",
       "Name: What was the best experience with the consumption of antibiotics?, dtype: float64"
      ]
     },
     "execution_count": 85,
     "metadata": {},
     "output_type": "execute_result"
    }
   ],
   "source": [
    "df['What was the best experience with the consumption of antibiotics?'].value_counts(normalize=True)*100"
   ]
  },
  {
   "cell_type": "markdown",
   "metadata": {},
   "source": [
    "## Question #16: What was the worst experience with the consumption of antibiotics?"
   ]
  },
  {
   "cell_type": "code",
   "execution_count": 86,
   "metadata": {},
   "outputs": [
    {
     "data": {
      "text/plain": [
       "Side-effects     35\n",
       "High price       19\n",
       "Duration         15\n",
       "Quality           2\n",
       "Name: What was the worst experience with the consumption of antibiotics?, dtype: int64"
      ]
     },
     "execution_count": 86,
     "metadata": {},
     "output_type": "execute_result"
    }
   ],
   "source": [
    "df['What was the worst experience with the consumption of antibiotics?'].value_counts() "
   ]
  },
  {
   "cell_type": "code",
   "execution_count": 87,
   "metadata": {},
   "outputs": [
    {
     "data": {
      "text/plain": [
       "Side-effects     0.492958\n",
       "High price       0.267606\n",
       "Duration         0.211268\n",
       "Quality          0.028169\n",
       "Name: What was the worst experience with the consumption of antibiotics?, dtype: float64"
      ]
     },
     "execution_count": 87,
     "metadata": {},
     "output_type": "execute_result"
    }
   ],
   "source": [
    "df['What was the worst experience with the consumption of antibiotics?'].value_counts(normalize=True)"
   ]
  },
  {
   "cell_type": "code",
   "execution_count": 88,
   "metadata": {},
   "outputs": [
    {
     "data": {
      "text/plain": [
       "Side-effects     49.295775\n",
       "High price       26.760563\n",
       "Duration         21.126761\n",
       "Quality           2.816901\n",
       "Name: What was the worst experience with the consumption of antibiotics?, dtype: float64"
      ]
     },
     "execution_count": 88,
     "metadata": {},
     "output_type": "execute_result"
    }
   ],
   "source": [
    "df['What was the worst experience with the consumption of antibiotics?'].value_counts(normalize=True)*100"
   ]
  },
  {
   "cell_type": "markdown",
   "metadata": {},
   "source": [
    "## Question #17:How did you come to consume the antibiotic?\n",
    "__TODO__\n",
    "- Fix Errors!"
   ]
  },
  {
   "cell_type": "code",
   "execution_count": 89,
   "metadata": {},
   "outputs": [
    {
     "data": {
      "text/plain": [
       "A registered physician prescribed it for the specific symptoms                                       64\n",
       "A non-registered medical professional  recommended (অনিবন্ধিত মেডিকেল পেশাদারের  পরামর্শ অনুযায়ী)     4\n",
       "I wanted to consume antibiotic                                                                        3\n",
       "Name: How did you come to consume the antibiotic?, dtype: int64"
      ]
     },
     "execution_count": 89,
     "metadata": {},
     "output_type": "execute_result"
    }
   ],
   "source": [
    "df['How did you come to consume the antibiotic?'].value_counts() "
   ]
  },
  {
   "cell_type": "code",
   "execution_count": 90,
   "metadata": {},
   "outputs": [
    {
     "data": {
      "text/plain": [
       "A registered physician prescribed it for the specific symptoms                                       0.901408\n",
       "A non-registered medical professional  recommended (অনিবন্ধিত মেডিকেল পেশাদারের  পরামর্শ অনুযায়ী)    0.056338\n",
       "I wanted to consume antibiotic                                                                       0.042254\n",
       "Name: How did you come to consume the antibiotic?, dtype: float64"
      ]
     },
     "execution_count": 90,
     "metadata": {},
     "output_type": "execute_result"
    }
   ],
   "source": [
    "df['How did you come to consume the antibiotic?'].value_counts(normalize=True) "
   ]
  },
  {
   "cell_type": "code",
   "execution_count": 91,
   "metadata": {},
   "outputs": [
    {
     "data": {
      "text/plain": [
       "A registered physician prescribed it for the specific symptoms                                       90.140845\n",
       "A non-registered medical professional  recommended (অনিবন্ধিত মেডিকেল পেশাদারের  পরামর্শ অনুযায়ী)     5.633803\n",
       "I wanted to consume antibiotic                                                                        4.225352\n",
       "Name: How did you come to consume the antibiotic?, dtype: float64"
      ]
     },
     "execution_count": 91,
     "metadata": {},
     "output_type": "execute_result"
    }
   ],
   "source": [
    "df['How did you come to consume the antibiotic?'].value_counts(normalize=True)*100"
   ]
  },
  {
   "cell_type": "markdown",
   "metadata": {},
   "source": [
    "## Question #18:Have you experienced treatment failure from antibiotic consumption?"
   ]
  },
  {
   "cell_type": "code",
   "execution_count": 92,
   "metadata": {},
   "outputs": [
    {
     "data": {
      "text/plain": [
       "No      51\n",
       "Yes     20\n",
       "Name: Have you experienced treatment failure from antibiotic consumption?, dtype: int64"
      ]
     },
     "execution_count": 92,
     "metadata": {},
     "output_type": "execute_result"
    }
   ],
   "source": [
    "df['Have you experienced treatment failure from antibiotic consumption?'].value_counts() "
   ]
  },
  {
   "cell_type": "code",
   "execution_count": 93,
   "metadata": {},
   "outputs": [
    {
     "data": {
      "text/plain": [
       "No      0.71831\n",
       "Yes     0.28169\n",
       "Name: Have you experienced treatment failure from antibiotic consumption?, dtype: float64"
      ]
     },
     "execution_count": 93,
     "metadata": {},
     "output_type": "execute_result"
    }
   ],
   "source": [
    "df['Have you experienced treatment failure from antibiotic consumption?'].value_counts(normalize=True) "
   ]
  },
  {
   "cell_type": "code",
   "execution_count": 94,
   "metadata": {},
   "outputs": [
    {
     "data": {
      "text/plain": [
       "No      71.830986\n",
       "Yes     28.169014\n",
       "Name: Have you experienced treatment failure from antibiotic consumption?, dtype: float64"
      ]
     },
     "execution_count": 94,
     "metadata": {},
     "output_type": "execute_result"
    }
   ],
   "source": [
    "df['Have you experienced treatment failure from antibiotic consumption?'].value_counts(normalize=True)*100"
   ]
  },
  {
   "cell_type": "markdown",
   "metadata": {},
   "source": [
    "## Question #19:What was your understanding of treatment failure?"
   ]
  },
  {
   "cell_type": "code",
   "execution_count": 95,
   "metadata": {},
   "outputs": [
    {
     "data": {
      "text/plain": [
       "Doctor couldn’t diagnose the correct problem                           9\n",
       "The symptom persisted even after taking the antibiotic directly        5\n",
       "I didn’t consume antibiotic on time and didn’t complete the course     4\n",
       "I suspect the quality of the antibiotic was not good                   3\n",
       "Name: What was your understanding of treatment failure?, dtype: int64"
      ]
     },
     "execution_count": 95,
     "metadata": {},
     "output_type": "execute_result"
    }
   ],
   "source": [
    "df['What was your understanding of treatment failure?'].value_counts()"
   ]
  },
  {
   "cell_type": "code",
   "execution_count": 96,
   "metadata": {},
   "outputs": [
    {
     "data": {
      "text/plain": [
       "Doctor couldn’t diagnose the correct problem                           0.428571\n",
       "The symptom persisted even after taking the antibiotic directly        0.238095\n",
       "I didn’t consume antibiotic on time and didn’t complete the course     0.190476\n",
       "I suspect the quality of the antibiotic was not good                   0.142857\n",
       "Name: What was your understanding of treatment failure?, dtype: float64"
      ]
     },
     "execution_count": 96,
     "metadata": {},
     "output_type": "execute_result"
    }
   ],
   "source": [
    "df['What was your understanding of treatment failure?'].value_counts(normalize=True)"
   ]
  },
  {
   "cell_type": "code",
   "execution_count": 97,
   "metadata": {},
   "outputs": [
    {
     "data": {
      "text/plain": [
       "Doctor couldn’t diagnose the correct problem                           42.857143\n",
       "The symptom persisted even after taking the antibiotic directly        23.809524\n",
       "I didn’t consume antibiotic on time and didn’t complete the course     19.047619\n",
       "I suspect the quality of the antibiotic was not good                   14.285714\n",
       "Name: What was your understanding of treatment failure?, dtype: float64"
      ]
     },
     "execution_count": 97,
     "metadata": {},
     "output_type": "execute_result"
    }
   ],
   "source": [
    "df['What was your understanding of treatment failure?'].value_counts(normalize=True)*100"
   ]
  }
 ],
 "metadata": {
  "kernelspec": {
   "display_name": "Python 3",
   "language": "python",
   "name": "python3"
  },
  "language_info": {
   "codemirror_mode": {
    "name": "ipython",
    "version": 3
   },
   "file_extension": ".py",
   "mimetype": "text/x-python",
   "name": "python",
   "nbconvert_exporter": "python",
   "pygments_lexer": "ipython3",
   "version": "3.7.4"
  },
  "latex_envs": {
   "LaTeX_envs_menu_present": true,
   "autoclose": false,
   "autocomplete": true,
   "bibliofile": "biblio.bib",
   "cite_by": "apalike",
   "current_citInitial": 1,
   "eqLabelWithNumbers": true,
   "eqNumInitial": 1,
   "hotkeys": {
    "equation": "Ctrl-E",
    "itemize": "Ctrl-I"
   },
   "labels_anchors": false,
   "latex_user_defs": false,
   "report_style_numbering": false,
   "user_envs_cfg": false
  }
 },
 "nbformat": 4,
 "nbformat_minor": 4
}
