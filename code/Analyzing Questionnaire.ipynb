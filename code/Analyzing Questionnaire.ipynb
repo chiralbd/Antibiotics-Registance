{
 "cells": [
  {
   "cell_type": "markdown",
   "metadata": {},
   "source": [
    "# Analyzing Questionnaire"
   ]
  },
  {
   "cell_type": "code",
   "execution_count": 1,
   "metadata": {},
   "outputs": [],
   "source": [
    "import pandas as pd \n",
    "import numpy as np \n",
    "import matplotlib.pyplot as plt \n",
    "import seaborn as sns \n",
    "import researchpy as rp \n",
    "from scipy import stats\n",
    "sns.set_style('whitegrid')"
   ]
  },
  {
   "cell_type": "code",
   "execution_count": 2,
   "metadata": {},
   "outputs": [
    {
     "name": "stdout",
     "output_type": "stream",
     "text": [
      "(463, 24)\n"
     ]
    }
   ],
   "source": [
    "df = pd.read_csv('../data/antibiotic_resistance_cleaned_data.csv')\n",
    "print(df.shape)"
   ]
  },
  {
   "cell_type": "code",
   "execution_count": 4,
   "metadata": {},
   "outputs": [],
   "source": [
    "# remove > 25 age limit \n",
    "gradstd_df = df[df['age_of_participant'] > 24]\n",
    "gradstd_df.to_csv(\"../data/gradstd.csv\", index=False)"
   ]
  },
  {
   "cell_type": "code",
   "execution_count": 5,
   "metadata": {},
   "outputs": [
    {
     "name": "stdout",
     "output_type": "stream",
     "text": [
      "(75, 24)\n"
     ]
    }
   ],
   "source": [
    "gradstd_df = pd.read_csv('../data/gradstd.csv')\n",
    "print(gradstd_df.shape)"
   ]
  },
  {
   "cell_type": "code",
   "execution_count": 6,
   "metadata": {},
   "outputs": [
    {
     "data": {
      "text/plain": [
       "388"
      ]
     },
     "execution_count": 6,
     "metadata": {},
     "output_type": "execute_result"
    }
   ],
   "source": [
    "# discarded observations \n",
    "df.shape[0] - gradstd_df.shape[0]"
   ]
  },
  {
   "cell_type": "code",
   "execution_count": 7,
   "metadata": {},
   "outputs": [
    {
     "data": {
      "text/html": [
       "<div>\n",
       "<style scoped>\n",
       "    .dataframe tbody tr th:only-of-type {\n",
       "        vertical-align: middle;\n",
       "    }\n",
       "\n",
       "    .dataframe tbody tr th {\n",
       "        vertical-align: top;\n",
       "    }\n",
       "\n",
       "    .dataframe thead th {\n",
       "        text-align: right;\n",
       "    }\n",
       "</style>\n",
       "<table border=\"1\" class=\"dataframe\">\n",
       "  <thead>\n",
       "    <tr style=\"text-align: right;\">\n",
       "      <th></th>\n",
       "      <th>age_of_participant</th>\n",
       "      <th>gender</th>\n",
       "      <th>academic_status</th>\n",
       "      <th>field_of_education</th>\n",
       "      <th>do_you_know_about_how_antibiotics_differ_from_other_drugs</th>\n",
       "      <th>pick_the_most_appropriate_definition_of_antibiotics</th>\n",
       "      <th>how_can_you_identify_an_antibiotic</th>\n",
       "      <th>what_is_your_idea_about_the_importance_of_antibiotics</th>\n",
       "      <th>what_is_the_most_dangerous_impact_of_antibiotics</th>\n",
       "      <th>what_is_your_opinion_about_antibiotic_usage</th>\n",
       "      <th>...</th>\n",
       "      <th>what_type_of_movement_on_public_health_issues_do_you_think_will_be_effective_in_setting_malpractices_right</th>\n",
       "      <th>why_do_you_think_public_health_issues_don’t_get_due_importance_in_public_opinion</th>\n",
       "      <th>how_many_antibiotics_have_you_taken_over_the_past_3_years</th>\n",
       "      <th>what_was_the_pattern_of_antibiotic_use</th>\n",
       "      <th>what_was_the_formulation_of_the_product_used</th>\n",
       "      <th>what_was_the_best_experience_with_the_consumption_of_antibiotics</th>\n",
       "      <th>what_was_the_worst_experience_with_the_consumption_of_antibiotics</th>\n",
       "      <th>how_did_you_come_to_consume_the_antibiotic</th>\n",
       "      <th>have_you_experienced_treatment_failure_from_antibiotic_consumption</th>\n",
       "      <th>what_was_your_understanding_of_treatment_failure</th>\n",
       "    </tr>\n",
       "  </thead>\n",
       "  <tbody>\n",
       "    <tr>\n",
       "      <th>0</th>\n",
       "      <td>26</td>\n",
       "      <td>Male</td>\n",
       "      <td>Master</td>\n",
       "      <td>English</td>\n",
       "      <td>No</td>\n",
       "      <td>Medicine used to treat fever</td>\n",
       "      <td>From the pharmaceutical composition</td>\n",
       "      <td>They are the reason hospitalization has been r...</td>\n",
       "      <td>Antibiotic consumption damages health</td>\n",
       "      <td>Antibiotics should be used with proper restric...</td>\n",
       "      <td>...</td>\n",
       "      <td>Movement in media to form public opinion</td>\n",
       "      <td>Our people are not educated enough to understa...</td>\n",
       "      <td>None</td>\n",
       "      <td>NaN</td>\n",
       "      <td>NaN</td>\n",
       "      <td>NaN</td>\n",
       "      <td>NaN</td>\n",
       "      <td>NaN</td>\n",
       "      <td>NaN</td>\n",
       "      <td>NaN</td>\n",
       "    </tr>\n",
       "    <tr>\n",
       "      <th>1</th>\n",
       "      <td>28</td>\n",
       "      <td>Male</td>\n",
       "      <td>B.Sc &amp; M.Sc in Microbiology</td>\n",
       "      <td>Microbiology</td>\n",
       "      <td>Yes</td>\n",
       "      <td>Medicine used to treat infections</td>\n",
       "      <td>From the pharmaceutical composition</td>\n",
       "      <td>They are the reason infectious diseases have b...</td>\n",
       "      <td>Antibiotic usage spreads antibiotic resistance</td>\n",
       "      <td>Antibiotics must be restricted because of the ...</td>\n",
       "      <td>...</td>\n",
       "      <td>Citizen movement from all people</td>\n",
       "      <td>Our government does not endorse forming public...</td>\n",
       "      <td>I don’t remember</td>\n",
       "      <td>NaN</td>\n",
       "      <td>NaN</td>\n",
       "      <td>NaN</td>\n",
       "      <td>NaN</td>\n",
       "      <td>NaN</td>\n",
       "      <td>NaN</td>\n",
       "      <td>NaN</td>\n",
       "    </tr>\n",
       "    <tr>\n",
       "      <th>2</th>\n",
       "      <td>26</td>\n",
       "      <td>Male</td>\n",
       "      <td>Studying ( Masters)</td>\n",
       "      <td>Pharmacy</td>\n",
       "      <td>Yes</td>\n",
       "      <td>Medicine used to treat infections</td>\n",
       "      <td>From the pharmaceutical composition</td>\n",
       "      <td>They are the reason infectious diseases have b...</td>\n",
       "      <td>Antibiotic consumption damages health</td>\n",
       "      <td>Antibiotics should be used with proper restric...</td>\n",
       "      <td>...</td>\n",
       "      <td>Professional movement by doctors, pharmaceutic...</td>\n",
       "      <td>Our people are not educated enough to understa...</td>\n",
       "      <td>I know precisely</td>\n",
       "      <td>I took multiple antibiotics multiple times (আম...</td>\n",
       "      <td>Tablet</td>\n",
       "      <td>I recovered from the symptoms quickly, which w...</td>\n",
       "      <td>Side-effects</td>\n",
       "      <td>A non-registered medical professional  recomme...</td>\n",
       "      <td>No</td>\n",
       "      <td>NaN</td>\n",
       "    </tr>\n",
       "    <tr>\n",
       "      <th>3</th>\n",
       "      <td>30</td>\n",
       "      <td>Female</td>\n",
       "      <td>Post graduate</td>\n",
       "      <td>Language &amp; Linguistics</td>\n",
       "      <td>Yes</td>\n",
       "      <td>Medicine used to treat infections</td>\n",
       "      <td>From the datasheet with the medicine</td>\n",
       "      <td>They are the reason infectious diseases have b...</td>\n",
       "      <td>Antibiotic usage spreads antibiotic resistance</td>\n",
       "      <td>Antibiotics should be used with proper restric...</td>\n",
       "      <td>...</td>\n",
       "      <td>Movement in media to form public opinion</td>\n",
       "      <td>Our people are not educated enough to understa...</td>\n",
       "      <td>I know precisely</td>\n",
       "      <td>I took multiple antibiotics multiple times (আম...</td>\n",
       "      <td>Tablet</td>\n",
       "      <td>I recovered from the symptoms quickly, which w...</td>\n",
       "      <td>Side-effects</td>\n",
       "      <td>A registered physician prescribed it for the s...</td>\n",
       "      <td>Yes</td>\n",
       "      <td>I didn’t consume antibiotic on time and didn’t...</td>\n",
       "    </tr>\n",
       "    <tr>\n",
       "      <th>4</th>\n",
       "      <td>32</td>\n",
       "      <td>Male</td>\n",
       "      <td>NationalUniversity</td>\n",
       "      <td>Msc</td>\n",
       "      <td>Yes</td>\n",
       "      <td>Medicine used to treat infections</td>\n",
       "      <td>From the pharmaceutical composition</td>\n",
       "      <td>They are the reason infectious diseases have b...</td>\n",
       "      <td>Antibiotic usage spreads antibiotic resistance</td>\n",
       "      <td>Antibiotics should be used with proper restric...</td>\n",
       "      <td>...</td>\n",
       "      <td>Professional movement by doctors, pharmaceutic...</td>\n",
       "      <td>Our health professionals are not active in dev...</td>\n",
       "      <td>I know precisely</td>\n",
       "      <td>I took multiple antibiotics multiple times (আম...</td>\n",
       "      <td>Oral</td>\n",
       "      <td>I recovered from the symptoms quickly, which w...</td>\n",
       "      <td>Side-effects</td>\n",
       "      <td>A registered physician prescribed it for the s...</td>\n",
       "      <td>No</td>\n",
       "      <td>NaN</td>\n",
       "    </tr>\n",
       "  </tbody>\n",
       "</table>\n",
       "<p>5 rows × 24 columns</p>\n",
       "</div>"
      ],
      "text/plain": [
       "   age_of_participant  gender               academic_status  \\\n",
       "0                  26    Male                       Master    \n",
       "1                  28    Male  B.Sc & M.Sc in Microbiology    \n",
       "2                  26    Male           Studying ( Masters)   \n",
       "3                  30  Female                Post graduate    \n",
       "4                  32    Male          NationalUniversity     \n",
       "\n",
       "        field_of_education  \\\n",
       "0                  English   \n",
       "1            Microbiology    \n",
       "2                 Pharmacy   \n",
       "3  Language & Linguistics    \n",
       "4                      Msc   \n",
       "\n",
       "  do_you_know_about_how_antibiotics_differ_from_other_drugs  \\\n",
       "0                                                No           \n",
       "1                                               Yes           \n",
       "2                                               Yes           \n",
       "3                                               Yes           \n",
       "4                                               Yes           \n",
       "\n",
       "  pick_the_most_appropriate_definition_of_antibiotics  \\\n",
       "0                      Medicine used to treat fever     \n",
       "1                 Medicine used to treat infections     \n",
       "2                 Medicine used to treat infections     \n",
       "3                 Medicine used to treat infections     \n",
       "4                 Medicine used to treat infections     \n",
       "\n",
       "      how_can_you_identify_an_antibiotic  \\\n",
       "0   From the pharmaceutical composition    \n",
       "1   From the pharmaceutical composition    \n",
       "2   From the pharmaceutical composition    \n",
       "3  From the datasheet with the medicine    \n",
       "4   From the pharmaceutical composition    \n",
       "\n",
       "  what_is_your_idea_about_the_importance_of_antibiotics  \\\n",
       "0  They are the reason hospitalization has been r...      \n",
       "1  They are the reason infectious diseases have b...      \n",
       "2  They are the reason infectious diseases have b...      \n",
       "3  They are the reason infectious diseases have b...      \n",
       "4  They are the reason infectious diseases have b...      \n",
       "\n",
       "  what_is_the_most_dangerous_impact_of_antibiotics  \\\n",
       "0           Antibiotic consumption damages health    \n",
       "1  Antibiotic usage spreads antibiotic resistance    \n",
       "2           Antibiotic consumption damages health    \n",
       "3  Antibiotic usage spreads antibiotic resistance    \n",
       "4  Antibiotic usage spreads antibiotic resistance    \n",
       "\n",
       "         what_is_your_opinion_about_antibiotic_usage  ...  \\\n",
       "0  Antibiotics should be used with proper restric...  ...   \n",
       "1  Antibiotics must be restricted because of the ...  ...   \n",
       "2  Antibiotics should be used with proper restric...  ...   \n",
       "3  Antibiotics should be used with proper restric...  ...   \n",
       "4  Antibiotics should be used with proper restric...  ...   \n",
       "\n",
       "  what_type_of_movement_on_public_health_issues_do_you_think_will_be_effective_in_setting_malpractices_right  \\\n",
       "0          Movement in media to form public opinion                                                            \n",
       "1                  Citizen movement from all people                                                            \n",
       "2  Professional movement by doctors, pharmaceutic...                                                           \n",
       "3          Movement in media to form public opinion                                                            \n",
       "4  Professional movement by doctors, pharmaceutic...                                                           \n",
       "\n",
       "  why_do_you_think_public_health_issues_don’t_get_due_importance_in_public_opinion  \\\n",
       "0  Our people are not educated enough to understa...                                 \n",
       "1  Our government does not endorse forming public...                                 \n",
       "2  Our people are not educated enough to understa...                                 \n",
       "3  Our people are not educated enough to understa...                                 \n",
       "4  Our health professionals are not active in dev...                                 \n",
       "\n",
       "  how_many_antibiotics_have_you_taken_over_the_past_3_years  \\\n",
       "0                                              None           \n",
       "1                                  I don’t remember           \n",
       "2                                  I know precisely           \n",
       "3                                  I know precisely           \n",
       "4                                  I know precisely           \n",
       "\n",
       "              what_was_the_pattern_of_antibiotic_use  \\\n",
       "0                                                NaN   \n",
       "1                                                NaN   \n",
       "2  I took multiple antibiotics multiple times (আম...   \n",
       "3  I took multiple antibiotics multiple times (আম...   \n",
       "4  I took multiple antibiotics multiple times (আম...   \n",
       "\n",
       "  what_was_the_formulation_of_the_product_used  \\\n",
       "0                                          NaN   \n",
       "1                                          NaN   \n",
       "2                                       Tablet   \n",
       "3                                       Tablet   \n",
       "4                                         Oral   \n",
       "\n",
       "  what_was_the_best_experience_with_the_consumption_of_antibiotics  \\\n",
       "0                                                NaN                 \n",
       "1                                                NaN                 \n",
       "2  I recovered from the symptoms quickly, which w...                 \n",
       "3  I recovered from the symptoms quickly, which w...                 \n",
       "4  I recovered from the symptoms quickly, which w...                 \n",
       "\n",
       "  what_was_the_worst_experience_with_the_consumption_of_antibiotics  \\\n",
       "0                                                NaN                  \n",
       "1                                                NaN                  \n",
       "2                                      Side-effects                   \n",
       "3                                      Side-effects                   \n",
       "4                                      Side-effects                   \n",
       "\n",
       "          how_did_you_come_to_consume_the_antibiotic  \\\n",
       "0                                                NaN   \n",
       "1                                                NaN   \n",
       "2  A non-registered medical professional  recomme...   \n",
       "3  A registered physician prescribed it for the s...   \n",
       "4  A registered physician prescribed it for the s...   \n",
       "\n",
       "  have_you_experienced_treatment_failure_from_antibiotic_consumption  \\\n",
       "0                                                NaN                   \n",
       "1                                                NaN                   \n",
       "2                                                No                    \n",
       "3                                               Yes                    \n",
       "4                                                No                    \n",
       "\n",
       "    what_was_your_understanding_of_treatment_failure  \n",
       "0                                                NaN  \n",
       "1                                                NaN  \n",
       "2                                                NaN  \n",
       "3  I didn’t consume antibiotic on time and didn’t...  \n",
       "4                                                NaN  \n",
       "\n",
       "[5 rows x 24 columns]"
      ]
     },
     "execution_count": 7,
     "metadata": {},
     "output_type": "execute_result"
    }
   ],
   "source": [
    "gradstd_df.head() "
   ]
  },
  {
   "cell_type": "markdown",
   "metadata": {},
   "source": [
    "## Exploring Data "
   ]
  },
  {
   "cell_type": "code",
   "execution_count": 8,
   "metadata": {},
   "outputs": [
    {
     "data": {
      "text/plain": [
       "Index(['age_of_participant', 'gender', 'academic_status', 'field_of_education',\n",
       "       'do_you_know_about_how_antibiotics_differ_from_other_drugs',\n",
       "       'pick_the_most_appropriate_definition_of_antibiotics',\n",
       "       'how_can_you_identify_an_antibiotic',\n",
       "       'what_is_your_idea_about_the_importance_of_antibiotics',\n",
       "       'what_is_the_most_dangerous_impact_of_antibiotics',\n",
       "       'what_is_your_opinion_about_antibiotic_usage',\n",
       "       'what_is_your_perception_of_drug-resistant_germs',\n",
       "       'do_you_have_idea_about_antibiotic_resistance_as_a_threat_to_public_health',\n",
       "       'choose_a_statement_that_you_feel_is_the_best_strategy_to_face_antibiotic-resistance',\n",
       "       'which_of_the_strategies_have_you_heard_about_against_antibiotic_resistance',\n",
       "       'what_type_of_movement_on_public_health_issues_do_you_think_will_be_effective_in_setting_malpractices_right',\n",
       "       'why_do_you_think_public_health_issues_don’t_get_due_importance_in_public_opinion',\n",
       "       'how_many_antibiotics_have_you_taken_over_the_past_3_years',\n",
       "       'what_was_the_pattern_of_antibiotic_use',\n",
       "       'what_was_the_formulation_of_the_product_used',\n",
       "       'what_was_the_best_experience_with_the_consumption_of_antibiotics',\n",
       "       'what_was_the_worst_experience_with_the_consumption_of_antibiotics',\n",
       "       'how_did_you_come_to_consume_the_antibiotic',\n",
       "       'have_you_experienced_treatment_failure_from_antibiotic_consumption',\n",
       "       'what_was_your_understanding_of_treatment_failure'],\n",
       "      dtype='object')"
      ]
     },
     "execution_count": 8,
     "metadata": {},
     "output_type": "execute_result"
    }
   ],
   "source": [
    "df.columns"
   ]
  },
  {
   "cell_type": "markdown",
   "metadata": {},
   "source": [
    "## Section-1: Demographics"
   ]
  },
  {
   "cell_type": "code",
   "execution_count": 9,
   "metadata": {},
   "outputs": [
    {
     "name": "stdout",
     "output_type": "stream",
     "text": [
      "Variable: age_of_participant    Data Type: int64 \n",
      "\n",
      " Number of Obs.: 75 \n",
      " Number of missing obs.: 0 \n",
      " Percent missing: 0.0 \n",
      " Number of unique values: 9 \n",
      "\n",
      " Range: [25, 34] \n",
      " Mean: 27.13 \n",
      " Standard Deviation: 2.26 \n",
      " Mode: 25 \n",
      " 10th Percentile: 25.0 \n",
      " 25th Percentile: 25.0 \n",
      " 50th Percentile: 26.0 \n",
      " 75th Percentile: 28.0 \n",
      " 90th Percentile: 30.0 \n",
      "\n",
      "\n",
      "\n",
      "\n",
      "\n"
     ]
    }
   ],
   "source": [
    "# summary of age \n",
    "rp.codebook(gradstd_df['age_of_participant'])"
   ]
  },
  {
   "cell_type": "code",
   "execution_count": 11,
   "metadata": {},
   "outputs": [
    {
     "data": {
      "text/html": [
       "<div>\n",
       "<style scoped>\n",
       "    .dataframe tbody tr th:only-of-type {\n",
       "        vertical-align: middle;\n",
       "    }\n",
       "\n",
       "    .dataframe tbody tr th {\n",
       "        vertical-align: top;\n",
       "    }\n",
       "\n",
       "    .dataframe thead th {\n",
       "        text-align: right;\n",
       "    }\n",
       "</style>\n",
       "<table border=\"1\" class=\"dataframe\">\n",
       "  <thead>\n",
       "    <tr style=\"text-align: right;\">\n",
       "      <th></th>\n",
       "      <th>Variable</th>\n",
       "      <th>Outcome</th>\n",
       "      <th>Count</th>\n",
       "      <th>Percent</th>\n",
       "    </tr>\n",
       "  </thead>\n",
       "  <tbody>\n",
       "    <tr>\n",
       "      <th>0</th>\n",
       "      <td>gender</td>\n",
       "      <td>Male</td>\n",
       "      <td>52</td>\n",
       "      <td>69.33</td>\n",
       "    </tr>\n",
       "    <tr>\n",
       "      <th>1</th>\n",
       "      <td></td>\n",
       "      <td>Female</td>\n",
       "      <td>23</td>\n",
       "      <td>30.67</td>\n",
       "    </tr>\n",
       "  </tbody>\n",
       "</table>\n",
       "</div>"
      ],
      "text/plain": [
       "  Variable Outcome  Count  Percent\n",
       "0   gender    Male     52    69.33\n",
       "1           Female     23    30.67"
      ]
     },
     "execution_count": 11,
     "metadata": {},
     "output_type": "execute_result"
    }
   ],
   "source": [
    "# summary of gender \n",
    "rp.summary_cat(gradstd_df['gender'])"
   ]
  },
  {
   "cell_type": "code",
   "execution_count": 47,
   "metadata": {},
   "outputs": [
    {
     "data": {
      "text/html": [
       "<div>\n",
       "<style scoped>\n",
       "    .dataframe tbody tr th:only-of-type {\n",
       "        vertical-align: middle;\n",
       "    }\n",
       "\n",
       "    .dataframe tbody tr th {\n",
       "        vertical-align: top;\n",
       "    }\n",
       "\n",
       "    .dataframe thead th {\n",
       "        text-align: right;\n",
       "    }\n",
       "</style>\n",
       "<table border=\"1\" class=\"dataframe\">\n",
       "  <thead>\n",
       "    <tr style=\"text-align: right;\">\n",
       "      <th></th>\n",
       "      <th>Variable</th>\n",
       "      <th>Outcome</th>\n",
       "      <th>Count</th>\n",
       "      <th>Percent</th>\n",
       "    </tr>\n",
       "  </thead>\n",
       "  <tbody>\n",
       "    <tr>\n",
       "      <th>0</th>\n",
       "      <td>academic_status</td>\n",
       "      <td>Student</td>\n",
       "      <td>14</td>\n",
       "      <td>3.61</td>\n",
       "    </tr>\n",
       "    <tr>\n",
       "      <th>1</th>\n",
       "      <td></td>\n",
       "      <td>BSc</td>\n",
       "      <td>14</td>\n",
       "      <td>3.61</td>\n",
       "    </tr>\n",
       "    <tr>\n",
       "      <th>2</th>\n",
       "      <td></td>\n",
       "      <td>HSC</td>\n",
       "      <td>14</td>\n",
       "      <td>3.61</td>\n",
       "    </tr>\n",
       "    <tr>\n",
       "      <th>3</th>\n",
       "      <td></td>\n",
       "      <td>Bsc</td>\n",
       "      <td>8</td>\n",
       "      <td>2.06</td>\n",
       "    </tr>\n",
       "    <tr>\n",
       "      <th>4</th>\n",
       "      <td></td>\n",
       "      <td>Student</td>\n",
       "      <td>7</td>\n",
       "      <td>1.80</td>\n",
       "    </tr>\n",
       "    <tr>\n",
       "      <th>...</th>\n",
       "      <td>...</td>\n",
       "      <td>...</td>\n",
       "      <td>...</td>\n",
       "      <td>...</td>\n",
       "    </tr>\n",
       "    <tr>\n",
       "      <th>278</th>\n",
       "      <td></td>\n",
       "      <td>B.Sc(Appeared)</td>\n",
       "      <td>1</td>\n",
       "      <td>0.26</td>\n",
       "    </tr>\n",
       "    <tr>\n",
       "      <th>279</th>\n",
       "      <td></td>\n",
       "      <td>Honours 4th year,at economics</td>\n",
       "      <td>1</td>\n",
       "      <td>0.26</td>\n",
       "    </tr>\n",
       "    <tr>\n",
       "      <th>280</th>\n",
       "      <td></td>\n",
       "      <td>School</td>\n",
       "      <td>1</td>\n",
       "      <td>0.26</td>\n",
       "    </tr>\n",
       "    <tr>\n",
       "      <th>281</th>\n",
       "      <td></td>\n",
       "      <td>B.Sc senior year</td>\n",
       "      <td>1</td>\n",
       "      <td>0.26</td>\n",
       "    </tr>\n",
       "    <tr>\n",
       "      <th>282</th>\n",
       "      <td></td>\n",
       "      <td>Hon's Final year</td>\n",
       "      <td>1</td>\n",
       "      <td>0.26</td>\n",
       "    </tr>\n",
       "  </tbody>\n",
       "</table>\n",
       "<p>283 rows × 4 columns</p>\n",
       "</div>"
      ],
      "text/plain": [
       "            Variable                         Outcome  Count  Percent\n",
       "0    academic_status                         Student     14     3.61\n",
       "1                                                BSc     14     3.61\n",
       "2                                                HSC     14     3.61\n",
       "3                                                Bsc      8     2.06\n",
       "4                                           Student       7     1.80\n",
       "..               ...                             ...    ...      ...\n",
       "278                                   B.Sc(Appeared)      1     0.26\n",
       "279                   Honours 4th year,at economics       1     0.26\n",
       "280                                           School      1     0.26\n",
       "281                                 B.Sc senior year      1     0.26\n",
       "282                                 Hon's Final year      1     0.26\n",
       "\n",
       "[283 rows x 4 columns]"
      ]
     },
     "execution_count": 47,
     "metadata": {},
     "output_type": "execute_result"
    }
   ],
   "source": [
    "# summary of academic status \n",
    "rp.summary_cat(gradstd_df['academic_status'])"
   ]
  },
  {
   "cell_type": "code",
   "execution_count": 18,
   "metadata": {},
   "outputs": [
    {
     "data": {
      "text/html": [
       "<div>\n",
       "<style scoped>\n",
       "    .dataframe tbody tr th:only-of-type {\n",
       "        vertical-align: middle;\n",
       "    }\n",
       "\n",
       "    .dataframe tbody tr th {\n",
       "        vertical-align: top;\n",
       "    }\n",
       "\n",
       "    .dataframe thead th {\n",
       "        text-align: right;\n",
       "    }\n",
       "</style>\n",
       "<table border=\"1\" class=\"dataframe\">\n",
       "  <thead>\n",
       "    <tr style=\"text-align: right;\">\n",
       "      <th></th>\n",
       "      <th>Variable</th>\n",
       "      <th>Outcome</th>\n",
       "      <th>Count</th>\n",
       "      <th>Percent</th>\n",
       "    </tr>\n",
       "  </thead>\n",
       "  <tbody>\n",
       "    <tr>\n",
       "      <th>0</th>\n",
       "      <td>field_of_education</td>\n",
       "      <td>Microbiology</td>\n",
       "      <td>38</td>\n",
       "      <td>9.79</td>\n",
       "    </tr>\n",
       "    <tr>\n",
       "      <th>1</th>\n",
       "      <td></td>\n",
       "      <td>Microbiology</td>\n",
       "      <td>26</td>\n",
       "      <td>6.70</td>\n",
       "    </tr>\n",
       "    <tr>\n",
       "      <th>2</th>\n",
       "      <td></td>\n",
       "      <td>Science</td>\n",
       "      <td>7</td>\n",
       "      <td>1.80</td>\n",
       "    </tr>\n",
       "    <tr>\n",
       "      <th>3</th>\n",
       "      <td></td>\n",
       "      <td>Economics</td>\n",
       "      <td>7</td>\n",
       "      <td>1.80</td>\n",
       "    </tr>\n",
       "    <tr>\n",
       "      <th>4</th>\n",
       "      <td></td>\n",
       "      <td>Science</td>\n",
       "      <td>6</td>\n",
       "      <td>1.55</td>\n",
       "    </tr>\n",
       "    <tr>\n",
       "      <th>...</th>\n",
       "      <td>...</td>\n",
       "      <td>...</td>\n",
       "      <td>...</td>\n",
       "      <td>...</td>\n",
       "    </tr>\n",
       "    <tr>\n",
       "      <th>240</th>\n",
       "      <td></td>\n",
       "      <td>Territory</td>\n",
       "      <td>1</td>\n",
       "      <td>0.26</td>\n",
       "    </tr>\n",
       "    <tr>\n",
       "      <th>241</th>\n",
       "      <td></td>\n",
       "      <td>Animal husbandry</td>\n",
       "      <td>1</td>\n",
       "      <td>0.26</td>\n",
       "    </tr>\n",
       "    <tr>\n",
       "      <th>242</th>\n",
       "      <td></td>\n",
       "      <td>Architecture</td>\n",
       "      <td>1</td>\n",
       "      <td>0.26</td>\n",
       "    </tr>\n",
       "    <tr>\n",
       "      <th>243</th>\n",
       "      <td></td>\n",
       "      <td>Mechanical Engineer</td>\n",
       "      <td>1</td>\n",
       "      <td>0.26</td>\n",
       "    </tr>\n",
       "    <tr>\n",
       "      <th>244</th>\n",
       "      <td></td>\n",
       "      <td>no</td>\n",
       "      <td>1</td>\n",
       "      <td>0.26</td>\n",
       "    </tr>\n",
       "  </tbody>\n",
       "</table>\n",
       "<p>245 rows × 4 columns</p>\n",
       "</div>"
      ],
      "text/plain": [
       "               Variable               Outcome  Count  Percent\n",
       "0    field_of_education         Microbiology      38     9.79\n",
       "1                                Microbiology     26     6.70\n",
       "2                                    Science       7     1.80\n",
       "3                                   Economics      7     1.80\n",
       "4                                     Science      6     1.55\n",
       "..                  ...                   ...    ...      ...\n",
       "240                                Territory       1     0.26\n",
       "241                          Animal husbandry      1     0.26\n",
       "242                             Architecture       1     0.26\n",
       "243                      Mechanical Engineer       1     0.26\n",
       "244                                        no      1     0.26\n",
       "\n",
       "[245 rows x 4 columns]"
      ]
     },
     "execution_count": 18,
     "metadata": {},
     "output_type": "execute_result"
    }
   ],
   "source": [
    "# summary of field of education \n",
    "rp.summary_cat(gradstd_df['field_of_education'])"
   ]
  },
  {
   "cell_type": "code",
   "execution_count": 5,
   "metadata": {},
   "outputs": [
    {
     "data": {
      "text/plain": [
       "(463, 24)"
      ]
     },
     "execution_count": 5,
     "metadata": {},
     "output_type": "execute_result"
    }
   ],
   "source": [
    "df.shape"
   ]
  },
  {
   "cell_type": "code",
   "execution_count": 6,
   "metadata": {},
   "outputs": [
    {
     "data": {
      "text/plain": [
       "age_of_participant                                                                                             int64\n",
       "gender                                                                                                        object\n",
       "academic_status                                                                                               object\n",
       "field_of_education                                                                                            object\n",
       "do_you_know_about_how_antibiotics_differ_from_other_drugs                                                     object\n",
       "pick_the_most_appropriate_definition_of_antibiotics                                                           object\n",
       "how_can_you_identify_an_antibiotic                                                                            object\n",
       "what_is_your_idea_about_the_importance_of_antibiotics                                                         object\n",
       "what_is_the_most_dangerous_impact_of_antibiotics                                                              object\n",
       "what_is_your_opinion_about_antibiotic_usage                                                                   object\n",
       "what_is_your_perception_of_drug-resistant_germs                                                               object\n",
       "do_you_have_idea_about_antibiotic_resistance_as_a_threat_to_public_health                                     object\n",
       "choose_a_statement_that_you_feel_is_the_best_strategy_to_face_antibiotic-resistance                           object\n",
       "which_of_the_strategies_have_you_heard_about_against_antibiotic_resistance                                    object\n",
       "what_type_of_movement_on_public_health_issues_do_you_think_will_be_effective_in_setting_malpractices_right    object\n",
       "why_do_you_think_public_health_issues_don’t_get_due_importance_in_public_opinion                              object\n",
       "how_many_antibiotics_have_you_taken_over_the_past_3_years                                                     object\n",
       "what_was_the_pattern_of_antibiotic_use                                                                        object\n",
       "what_was_the_formulation_of_the_product_used                                                                  object\n",
       "what_was_the_best_experience_with_the_consumption_of_antibiotics                                              object\n",
       "what_was_the_worst_experience_with_the_consumption_of_antibiotics                                             object\n",
       "how_did_you_come_to_consume_the_antibiotic                                                                    object\n",
       "have_you_experienced_treatment_failure_from_antibiotic_consumption                                            object\n",
       "what_was_your_understanding_of_treatment_failure                                                              object\n",
       "dtype: object"
      ]
     },
     "execution_count": 6,
     "metadata": {},
     "output_type": "execute_result"
    }
   ],
   "source": [
    "df.dtypes"
   ]
  },
  {
   "cell_type": "code",
   "execution_count": 7,
   "metadata": {},
   "outputs": [
    {
     "data": {
      "text/plain": [
       "Index(['gender', 'academic_status', 'field_of_education',\n",
       "       'do_you_know_about_how_antibiotics_differ_from_other_drugs',\n",
       "       'pick_the_most_appropriate_definition_of_antibiotics',\n",
       "       'how_can_you_identify_an_antibiotic',\n",
       "       'what_is_your_idea_about_the_importance_of_antibiotics',\n",
       "       'what_is_the_most_dangerous_impact_of_antibiotics',\n",
       "       'what_is_your_opinion_about_antibiotic_usage',\n",
       "       'what_is_your_perception_of_drug-resistant_germs',\n",
       "       'do_you_have_idea_about_antibiotic_resistance_as_a_threat_to_public_health',\n",
       "       'choose_a_statement_that_you_feel_is_the_best_strategy_to_face_antibiotic-resistance',\n",
       "       'which_of_the_strategies_have_you_heard_about_against_antibiotic_resistance',\n",
       "       'what_type_of_movement_on_public_health_issues_do_you_think_will_be_effective_in_setting_malpractices_right',\n",
       "       'why_do_you_think_public_health_issues_don’t_get_due_importance_in_public_opinion',\n",
       "       'how_many_antibiotics_have_you_taken_over_the_past_3_years',\n",
       "       'what_was_the_pattern_of_antibiotic_use',\n",
       "       'what_was_the_formulation_of_the_product_used',\n",
       "       'what_was_the_best_experience_with_the_consumption_of_antibiotics',\n",
       "       'what_was_the_worst_experience_with_the_consumption_of_antibiotics',\n",
       "       'how_did_you_come_to_consume_the_antibiotic',\n",
       "       'have_you_experienced_treatment_failure_from_antibiotic_consumption',\n",
       "       'what_was_your_understanding_of_treatment_failure'],\n",
       "      dtype='object')"
      ]
     },
     "execution_count": 7,
     "metadata": {},
     "output_type": "execute_result"
    }
   ],
   "source": [
    "df.columns[df.dtypes == 'object']"
   ]
  },
  {
   "cell_type": "markdown",
   "metadata": {},
   "source": [
    "__Insights__\n",
    "\n",
    "- Most of the data were in objects/categorical data \n",
    "- One of theme was integer/numeric data \n"
   ]
  },
  {
   "cell_type": "code",
   "execution_count": 15,
   "metadata": {},
   "outputs": [],
   "source": [
    "rp_results = rp.summary_cat(df[['gender', 'academic_status', 'field_of_education',\n",
    "       'do_you_know_about_how_antibiotics_differ_from_other_drugs',\n",
    "       'pick_the_most_appropriate_definition_of_antibiotics',\n",
    "       'how_can_you_identify_an_antibiotic',\n",
    "       'what_is_your_idea_about_the_importance_of_antibiotics',\n",
    "       'what_is_the_most_dangerous_impact_of_antibiotics',\n",
    "       'what_is_your_opinion_about_antibiotic_usage',\n",
    "       'what_is_your_perception_of_drug-resistant_germs',\n",
    "       'do_you_have_idea_about_antibiotic_resistance_as_a_threat_to_public_health',\n",
    "       'choose_a_statement_that_you_feel_is_the_best_strategy_to_face_antibiotic-resistance',\n",
    "       'which_of_the_strategies_have_you_heard_about_against_antibiotic_resistance',\n",
    "       'what_type_of_movement_on_public_health_issues_do_you_think_will_be_effective_in_setting_malpractices_right',\n",
    "       'why_do_you_think_public_health_issues_don’t_get_due_importance_in_public_opinion',\n",
    "       'how_many_antibiotics_have_you_taken_over_the_past_3_years',\n",
    "       'what_was_the_pattern_of_antibiotic_use',\n",
    "       'what_was_the_formulation_of_the_product_used',\n",
    "       'what_was_the_best_experience_with_the_consumption_of_antibiotics',\n",
    "       'what_was_the_worst_experience_with_the_consumption_of_antibiotics',\n",
    "       'how_did_you_come_to_consume_the_antibiotic',\n",
    "       'have_you_experienced_treatment_failure_from_antibiotic_consumption',\n",
    "       'what_was_your_understanding_of_treatment_failure']])"
   ]
  },
  {
   "cell_type": "code",
   "execution_count": 16,
   "metadata": {},
   "outputs": [
    {
     "data": {
      "text/html": [
       "<div>\n",
       "<style scoped>\n",
       "    .dataframe tbody tr th:only-of-type {\n",
       "        vertical-align: middle;\n",
       "    }\n",
       "\n",
       "    .dataframe tbody tr th {\n",
       "        vertical-align: top;\n",
       "    }\n",
       "\n",
       "    .dataframe thead th {\n",
       "        text-align: right;\n",
       "    }\n",
       "</style>\n",
       "<table border=\"1\" class=\"dataframe\">\n",
       "  <thead>\n",
       "    <tr style=\"text-align: right;\">\n",
       "      <th></th>\n",
       "      <th>Variable</th>\n",
       "      <th>Outcome</th>\n",
       "      <th>Count</th>\n",
       "      <th>Percent</th>\n",
       "    </tr>\n",
       "  </thead>\n",
       "  <tbody>\n",
       "    <tr>\n",
       "      <th>0</th>\n",
       "      <td>gender</td>\n",
       "      <td>Male</td>\n",
       "      <td>285</td>\n",
       "      <td>61.56</td>\n",
       "    </tr>\n",
       "    <tr>\n",
       "      <th>1</th>\n",
       "      <td></td>\n",
       "      <td>Female</td>\n",
       "      <td>178</td>\n",
       "      <td>38.44</td>\n",
       "    </tr>\n",
       "    <tr>\n",
       "      <th>2</th>\n",
       "      <td>academic_status</td>\n",
       "      <td>Student</td>\n",
       "      <td>17</td>\n",
       "      <td>3.67</td>\n",
       "    </tr>\n",
       "    <tr>\n",
       "      <th>3</th>\n",
       "      <td></td>\n",
       "      <td>BSc</td>\n",
       "      <td>14</td>\n",
       "      <td>3.02</td>\n",
       "    </tr>\n",
       "    <tr>\n",
       "      <th>4</th>\n",
       "      <td></td>\n",
       "      <td>HSC</td>\n",
       "      <td>14</td>\n",
       "      <td>3.02</td>\n",
       "    </tr>\n",
       "  </tbody>\n",
       "</table>\n",
       "</div>"
      ],
      "text/plain": [
       "          Variable  Outcome  Count  Percent\n",
       "0           gender     Male    285    61.56\n",
       "1                    Female    178    38.44\n",
       "2  academic_status  Student     17     3.67\n",
       "3                       BSc     14     3.02\n",
       "4                       HSC     14     3.02"
      ]
     },
     "execution_count": 16,
     "metadata": {},
     "output_type": "execute_result"
    }
   ],
   "source": [
    "rp_results "
   ]
  },
  {
   "cell_type": "code",
   "execution_count": null,
   "metadata": {},
   "outputs": [],
   "source": []
  },
  {
   "cell_type": "code",
   "execution_count": 8,
   "metadata": {},
   "outputs": [
    {
     "data": {
      "text/plain": [
       "age_of_participant                                                                                            463\n",
       "gender                                                                                                        463\n",
       "academic_status                                                                                               463\n",
       "field_of_education                                                                                            462\n",
       "do_you_know_about_how_antibiotics_differ_from_other_drugs                                                     463\n",
       "pick_the_most_appropriate_definition_of_antibiotics                                                           463\n",
       "how_can_you_identify_an_antibiotic                                                                            463\n",
       "what_is_your_idea_about_the_importance_of_antibiotics                                                         463\n",
       "what_is_the_most_dangerous_impact_of_antibiotics                                                              463\n",
       "what_is_your_opinion_about_antibiotic_usage                                                                   463\n",
       "what_is_your_perception_of_drug-resistant_germs                                                               463\n",
       "do_you_have_idea_about_antibiotic_resistance_as_a_threat_to_public_health                                     463\n",
       "choose_a_statement_that_you_feel_is_the_best_strategy_to_face_antibiotic-resistance                           463\n",
       "which_of_the_strategies_have_you_heard_about_against_antibiotic_resistance                                    463\n",
       "what_type_of_movement_on_public_health_issues_do_you_think_will_be_effective_in_setting_malpractices_right    463\n",
       "why_do_you_think_public_health_issues_don’t_get_due_importance_in_public_opinion                              463\n",
       "how_many_antibiotics_have_you_taken_over_the_past_3_years                                                     463\n",
       "what_was_the_pattern_of_antibiotic_use                                                                        109\n",
       "what_was_the_formulation_of_the_product_used                                                                  109\n",
       "what_was_the_best_experience_with_the_consumption_of_antibiotics                                              109\n",
       "what_was_the_worst_experience_with_the_consumption_of_antibiotics                                             109\n",
       "how_did_you_come_to_consume_the_antibiotic                                                                    109\n",
       "have_you_experienced_treatment_failure_from_antibiotic_consumption                                            109\n",
       "what_was_your_understanding_of_treatment_failure                                                               29\n",
       "dtype: int64"
      ]
     },
     "execution_count": 8,
     "metadata": {},
     "output_type": "execute_result"
    }
   ],
   "source": [
    "# Count of each row\n",
    "df.count() "
   ]
  },
  {
   "cell_type": "markdown",
   "metadata": {},
   "source": [
    "## Missing Values "
   ]
  },
  {
   "cell_type": "code",
   "execution_count": 9,
   "metadata": {},
   "outputs": [
    {
     "data": {
      "text/plain": [
       "age_of_participant                                                                                              0\n",
       "gender                                                                                                          0\n",
       "academic_status                                                                                                 0\n",
       "field_of_education                                                                                              1\n",
       "do_you_know_about_how_antibiotics_differ_from_other_drugs                                                       0\n",
       "pick_the_most_appropriate_definition_of_antibiotics                                                             0\n",
       "how_can_you_identify_an_antibiotic                                                                              0\n",
       "what_is_your_idea_about_the_importance_of_antibiotics                                                           0\n",
       "what_is_the_most_dangerous_impact_of_antibiotics                                                                0\n",
       "what_is_your_opinion_about_antibiotic_usage                                                                     0\n",
       "what_is_your_perception_of_drug-resistant_germs                                                                 0\n",
       "do_you_have_idea_about_antibiotic_resistance_as_a_threat_to_public_health                                       0\n",
       "choose_a_statement_that_you_feel_is_the_best_strategy_to_face_antibiotic-resistance                             0\n",
       "which_of_the_strategies_have_you_heard_about_against_antibiotic_resistance                                      0\n",
       "what_type_of_movement_on_public_health_issues_do_you_think_will_be_effective_in_setting_malpractices_right      0\n",
       "why_do_you_think_public_health_issues_don’t_get_due_importance_in_public_opinion                                0\n",
       "how_many_antibiotics_have_you_taken_over_the_past_3_years                                                       0\n",
       "what_was_the_pattern_of_antibiotic_use                                                                        354\n",
       "what_was_the_formulation_of_the_product_used                                                                  354\n",
       "what_was_the_best_experience_with_the_consumption_of_antibiotics                                              354\n",
       "what_was_the_worst_experience_with_the_consumption_of_antibiotics                                             354\n",
       "how_did_you_come_to_consume_the_antibiotic                                                                    354\n",
       "have_you_experienced_treatment_failure_from_antibiotic_consumption                                            354\n",
       "what_was_your_understanding_of_treatment_failure                                                              434\n",
       "dtype: int64"
      ]
     },
     "execution_count": 9,
     "metadata": {},
     "output_type": "execute_result"
    }
   ],
   "source": [
    "df.isnull().sum() "
   ]
  },
  {
   "cell_type": "markdown",
   "metadata": {},
   "source": [
    "__Insights__\n",
    "\n",
    "- Last 4 columns have a lot of missing values."
   ]
  },
  {
   "cell_type": "markdown",
   "metadata": {},
   "source": [
    "## Distribution of Age "
   ]
  },
  {
   "cell_type": "code",
   "execution_count": 10,
   "metadata": {},
   "outputs": [],
   "source": [
    "df['age_of_participant'] = df['age_of_participant'].astype('int')"
   ]
  },
  {
   "cell_type": "code",
   "execution_count": 11,
   "metadata": {},
   "outputs": [
    {
     "name": "stdout",
     "output_type": "stream",
     "text": [
      "Median age of participant:  22.0\n"
     ]
    }
   ],
   "source": [
    "# Median age of participant\n",
    "print(\"Median age of participant: \", df['age_of_participant'].median())"
   ]
  },
  {
   "cell_type": "code",
   "execution_count": 12,
   "metadata": {},
   "outputs": [
    {
     "data": {
      "text/plain": [
       "count    463.000000\n",
       "mean      22.084233\n",
       "std        2.912770\n",
       "min       14.000000\n",
       "25%       20.000000\n",
       "50%       22.000000\n",
       "75%       23.000000\n",
       "max       34.000000\n",
       "Name: age_of_participant, dtype: float64"
      ]
     },
     "execution_count": 12,
     "metadata": {},
     "output_type": "execute_result"
    }
   ],
   "source": [
    "# Summary \n",
    "df['age_of_participant'].describe() "
   ]
  },
  {
   "cell_type": "markdown",
   "metadata": {},
   "source": [
    "__Insights__\n",
    "\n",
    "- In this study, 75%(most of them) participants are less than 23 years old. "
   ]
  },
  {
   "cell_type": "code",
   "execution_count": 13,
   "metadata": {},
   "outputs": [
    {
     "data": {
      "text/plain": [
       "<matplotlib.axes._subplots.AxesSubplot at 0x7fab799175d0>"
      ]
     },
     "execution_count": 13,
     "metadata": {},
     "output_type": "execute_result"
    },
    {
     "data": {
      "image/png": "[encoded data removed]",
      "text/plain": [
       "<Figure size 432x288 with 1 Axes>"
      ]
     },
     "metadata": {
      "needs_background": "light"
     },
     "output_type": "display_data"
    }
   ],
   "source": [
    "sns.histplot(df['age_of_participant'])"
   ]
  },
  {
   "cell_type": "code",
   "execution_count": 11,
   "metadata": {},
   "outputs": [
    {
     "data": {
      "text/plain": [
       "<matplotlib.axes._subplots.AxesSubplot at 0x7fbacb1bc190>"
      ]
     },
     "execution_count": 11,
     "metadata": {},
     "output_type": "execute_result"
    },
    {
     "data": {
      "image/png": "[encoded data removed]",
      "text/plain": [
       "<Figure size 432x288 with 1 Axes>"
      ]
     },
     "metadata": {},
     "output_type": "display_data"
    }
   ],
   "source": [
    "# check normality \n",
    "sns.distplot(df['age_of_participant'], kde=True, bins=30)"
   ]
  },
  {
   "cell_type": "markdown",
   "metadata": {},
   "source": [
    "__Insights__ \n",
    "\n",
    "- Not proper normal distribution, little bit positively skewed."
   ]
  },
  {
   "cell_type": "markdown",
   "metadata": {},
   "source": [
    "## Normality Test - Shapiro-Wilk Test"
   ]
  },
  {
   "cell_type": "markdown",
   "metadata": {},
   "source": [
    "- $H_0$: The sample has a Gaussian/Normal distribution.\n",
    "- $H_a$: The sample does not have a Gaussian/Normal distribution."
   ]
  },
  {
   "cell_type": "code",
   "execution_count": 12,
   "metadata": {},
   "outputs": [
    {
     "name": "stdout",
     "output_type": "stream",
     "text": [
      "stat=0.933, p=0.000\n",
      "Probably not Gaussian\n"
     ]
    }
   ],
   "source": [
    "stat, p = stats.shapiro(df['age_of_participant'])\n",
    "print('stat=%.3f, p=%.3f' % (stat, p))\n",
    "if p > 0.05:\n",
    "    print('Probably Gaussian')\n",
    "else:\n",
    "    print('Probably not Gaussian')"
   ]
  },
  {
   "cell_type": "code",
   "execution_count": 23,
   "metadata": {},
   "outputs": [
    {
     "data": {
      "text/plain": [
       "gender\n",
       "Female    21\n",
       "Male      22\n",
       "Name: age_of_participant, dtype: int64"
      ]
     },
     "execution_count": 23,
     "metadata": {},
     "output_type": "execute_result"
    }
   ],
   "source": [
    "# age distribution by sex \n",
    "df.groupby('gender').age_of_participant.median() "
   ]
  },
  {
   "cell_type": "markdown",
   "metadata": {},
   "source": [
    "__Insights__\n",
    "- Median age of female 21 years.\n",
    "- Median age of male 22 years. "
   ]
  },
  {
   "cell_type": "code",
   "execution_count": 37,
   "metadata": {},
   "outputs": [
    {
     "data": {
      "text/plain": [
       "22.084233261339094"
      ]
     },
     "execution_count": 37,
     "metadata": {},
     "output_type": "execute_result"
    }
   ],
   "source": [
    "df['age_of_participant'].mean() "
   ]
  },
  {
   "cell_type": "code",
   "execution_count": 40,
   "metadata": {},
   "outputs": [
    {
     "name": "stdout",
     "output_type": "stream",
     "text": [
      "Skew: 0.999764918884061\n",
      "Kurto: 1.7791286820876566\n"
     ]
    }
   ],
   "source": [
    "print(\"Skew:\", stats.skew(df['age_of_participant']))\n",
    "print(\"Kurto:\", stats.kurtosis(df['age_of_participant']))"
   ]
  },
  {
   "cell_type": "markdown",
   "metadata": {},
   "source": [
    "### Inference\n",
    "- $H_0$: The average age of participant is 22\n",
    "- $H_a$: The average age of participant is not 22\n",
    "\n",
    "Where, 30 is hypothesis mean"
   ]
  },
  {
   "cell_type": "code",
   "execution_count": 4,
   "metadata": {},
   "outputs": [],
   "source": [
    "stat, p = stats.ttest_1samp(df['age_of_participant'], np.mean(df['age_of_participant']))"
   ]
  },
  {
   "cell_type": "code",
   "execution_count": 5,
   "metadata": {},
   "outputs": [
    {
     "name": "stdout",
     "output_type": "stream",
     "text": [
      "Fail to Reject H0 Hypothesis, We accaept H0 Hypothesis.\n"
     ]
    }
   ],
   "source": [
    "if p < 0.05: \n",
    "    print(\"Reject H0 Hypothesis.\")\n",
    "else: \n",
    "    print(\"Fail to Reject H0 Hypothesis, We accaept H0 Hypothesis.\")"
   ]
  },
  {
   "cell_type": "markdown",
   "metadata": {},
   "source": [
    "## Checking for Outliers\n",
    "- Univariate Analysis\n",
    "- Multivariate Analysis\n",
    "\n",
    "## Methods\n",
    "- Boxplot(Univariate)\n",
    "- Scatterplot (Multivariate)\n",
    "- Z-score\n",
    "- IQR Interquartile Range"
   ]
  },
  {
   "cell_type": "code",
   "execution_count": 24,
   "metadata": {},
   "outputs": [
    {
     "data": {
      "text/plain": [
       "count    463.000000\n",
       "mean      22.084233\n",
       "std        2.912770\n",
       "min       14.000000\n",
       "25%       20.000000\n",
       "50%       22.000000\n",
       "75%       23.000000\n",
       "max       34.000000\n",
       "Name: age_of_participant, dtype: float64"
      ]
     },
     "execution_count": 24,
     "metadata": {},
     "output_type": "execute_result"
    }
   ],
   "source": [
    "# outlier detections\n",
    "df['age_of_participant'].describe() "
   ]
  },
  {
   "cell_type": "code",
   "execution_count": 27,
   "metadata": {},
   "outputs": [],
   "source": [
    "q1 = df.quantile(0.25)\n",
    "q3 = df.quantile(0.75)"
   ]
  },
  {
   "cell_type": "code",
   "execution_count": 28,
   "metadata": {},
   "outputs": [],
   "source": [
    "IQR = q3 - q1 "
   ]
  },
  {
   "cell_type": "code",
   "execution_count": 29,
   "metadata": {},
   "outputs": [
    {
     "data": {
      "text/plain": [
       "age_of_participant    3.0\n",
       "dtype: float64"
      ]
     },
     "execution_count": 29,
     "metadata": {},
     "output_type": "execute_result"
    }
   ],
   "source": [
    "IQR"
   ]
  },
  {
   "cell_type": "code",
   "execution_count": 32,
   "metadata": {},
   "outputs": [
    {
     "data": {
      "text/plain": [
       "(age_of_participant    15.5\n",
       " dtype: float64,\n",
       " age_of_participant    27.5\n",
       " dtype: float64)"
      ]
     },
     "execution_count": 32,
     "metadata": {},
     "output_type": "execute_result"
    }
   ],
   "source": [
    "(q1 - 1.5*IQR, q3 + 1.5*IQR)"
   ]
  },
  {
   "cell_type": "markdown",
   "metadata": {},
   "source": [
    "__Insights__\n",
    "\n",
    "- Maximum age of participants was 34. The range is (15.5-27.5), 34 is not in this range so it's an outliers."
   ]
  },
  {
   "cell_type": "code",
   "execution_count": 16,
   "metadata": {},
   "outputs": [
    {
     "data": {
      "text/plain": [
       "<matplotlib.axes._subplots.AxesSubplot at 0x7fab6a65e850>"
      ]
     },
     "execution_count": 16,
     "metadata": {},
     "output_type": "execute_result"
    },
    {
     "data": {
      "image/png": "[encoded data removed]",
      "text/plain": [
       "<Figure size 432x288 with 1 Axes>"
      ]
     },
     "metadata": {
      "needs_background": "light"
     },
     "output_type": "display_data"
    }
   ],
   "source": [
    "# any outliers?\n",
    "sns.boxplot(x='age_of_participant', data=df)"
   ]
  },
  {
   "cell_type": "markdown",
   "metadata": {},
   "source": [
    "__Insights__\n",
    "\n",
    "- Outliers was present."
   ]
  },
  {
   "cell_type": "code",
   "execution_count": 18,
   "metadata": {},
   "outputs": [
    {
     "data": {
      "text/plain": [
       "<matplotlib.axes._subplots.AxesSubplot at 0x7fab6a040c10>"
      ]
     },
     "execution_count": 18,
     "metadata": {},
     "output_type": "execute_result"
    },
    {
     "data": {
      "image/png": "[encoded data removed]",
      "text/plain": [
       "<Figure size 432x288 with 1 Axes>"
      ]
     },
     "metadata": {
      "needs_background": "light"
     },
     "output_type": "display_data"
    }
   ],
   "source": [
    "sns.boxplot(x='gender', y='age_of_participant', data=df)"
   ]
  },
  {
   "cell_type": "markdown",
   "metadata": {},
   "source": [
    "## Academic Status"
   ]
  },
  {
   "cell_type": "code",
   "execution_count": 33,
   "metadata": {},
   "outputs": [
    {
     "data": {
      "text/plain": [
       "Student                                        17\n",
       "BSc                                            14\n",
       "HSC                                            14\n",
       "Bsc                                             9\n",
       "Graduate                                        7\n",
       "                                               ..\n",
       "HSC passed and studing in Hons 1st year.        1\n",
       "Bsc ( Engineering) 1st year 2nd semester        1\n",
       "Honours 1 st year                               1\n",
       "BSc 1st year                                    1\n",
       "Honours 4th year,at economics                   1\n",
       "Name: academic_status, Length: 333, dtype: int64"
      ]
     },
     "execution_count": 33,
     "metadata": {},
     "output_type": "execute_result"
    }
   ],
   "source": [
    "df['academic_status'].value_counts() "
   ]
  },
  {
   "cell_type": "markdown",
   "metadata": {},
   "source": [
    "## Field of Education"
   ]
  },
  {
   "cell_type": "code",
   "execution_count": 34,
   "metadata": {},
   "outputs": [
    {
     "data": {
      "text/plain": [
       "Microbiology                      45\n",
       "Microbiology                      32\n",
       "Economics                          9\n",
       "Science                            7\n",
       "CSE                                6\n",
       "                                  ..\n",
       "RMG sector                         1\n",
       "Satkhira medical College           1\n",
       "Department of Chemistry            1\n",
       "English Literature                 1\n",
       "NMC                                1\n",
       "Name: field_of_education, Length: 284, dtype: int64"
      ]
     },
     "execution_count": 34,
     "metadata": {},
     "output_type": "execute_result"
    }
   ],
   "source": [
    "df['field_of_education'].value_counts() "
   ]
  },
  {
   "cell_type": "markdown",
   "metadata": {},
   "source": [
    "# Analyzing Questions "
   ]
  },
  {
   "cell_type": "markdown",
   "metadata": {},
   "source": [
    "## Question #1: Do you know about how antibiotics differ from other drugs? "
   ]
  },
  {
   "cell_type": "code",
   "execution_count": 17,
   "metadata": {},
   "outputs": [
    {
     "data": {
      "text/plain": [
       "Yes     74.946004\n",
       "No      25.053996\n",
       "Name: do_you_know_about_how_antibiotics_differ_from_other_drugs, dtype: float64"
      ]
     },
     "execution_count": 17,
     "metadata": {},
     "output_type": "execute_result"
    }
   ],
   "source": [
    "df['do_you_know_about_how_antibiotics_differ_from_other_drugs'].value_counts(normalize=True) * 100 "
   ]
  },
  {
   "cell_type": "code",
   "execution_count": null,
   "metadata": {},
   "outputs": [],
   "source": [
    "# proportion \n",
    "df['Do you know about how antibiotics differ from other drugs?'].value_counts(normalize=True) "
   ]
  },
  {
   "cell_type": "code",
   "execution_count": null,
   "metadata": {},
   "outputs": [],
   "source": [
    "# % \n",
    "df['Do you know about how antibiotics differ from other drugs?'].value_counts(normalize=True) * 100"
   ]
  },
  {
   "cell_type": "code",
   "execution_count": null,
   "metadata": {},
   "outputs": [],
   "source": [
    "sns.countplot(x='Do you know about how antibiotics differ from other drugs?',data=df, hue='Gender')"
   ]
  },
  {
   "cell_type": "markdown",
   "metadata": {},
   "source": [
    "## Question #2: Pick the most appropriate definition of antibiotics"
   ]
  },
  {
   "cell_type": "code",
   "execution_count": null,
   "metadata": {},
   "outputs": [],
   "source": [
    "df['Pick the most appropriate definition of antibiotics'].value_counts() "
   ]
  },
  {
   "cell_type": "code",
   "execution_count": null,
   "metadata": {},
   "outputs": [],
   "source": [
    "df['Pick the most appropriate definition of antibiotics'].value_counts(normalize=True)"
   ]
  },
  {
   "cell_type": "code",
   "execution_count": null,
   "metadata": {},
   "outputs": [],
   "source": [
    "df['Pick the most appropriate definition of antibiotics'].value_counts(normalize=True) * 100 "
   ]
  },
  {
   "cell_type": "markdown",
   "metadata": {},
   "source": [
    "## Question #3: How can you identify an antibiotic?"
   ]
  },
  {
   "cell_type": "code",
   "execution_count": null,
   "metadata": {},
   "outputs": [],
   "source": [
    "df['How can you identify an antibiotic?'].value_counts() "
   ]
  },
  {
   "cell_type": "code",
   "execution_count": null,
   "metadata": {},
   "outputs": [],
   "source": [
    "df['How can you identify an antibiotic?'].value_counts(normalize=True) "
   ]
  },
  {
   "cell_type": "code",
   "execution_count": null,
   "metadata": {},
   "outputs": [],
   "source": [
    "df['How can you identify an antibiotic?'].value_counts(normalize=True) * 100"
   ]
  },
  {
   "cell_type": "markdown",
   "metadata": {},
   "source": [
    "## Question #4: What is your idea about the importance of antibiotics?"
   ]
  },
  {
   "cell_type": "code",
   "execution_count": null,
   "metadata": {},
   "outputs": [],
   "source": [
    "df['What is your idea about the importance of antibiotics?'].value_counts()"
   ]
  },
  {
   "cell_type": "code",
   "execution_count": null,
   "metadata": {},
   "outputs": [],
   "source": [
    "df['What is your idea about the importance of antibiotics?'].value_counts(normalize=True)"
   ]
  },
  {
   "cell_type": "code",
   "execution_count": null,
   "metadata": {},
   "outputs": [],
   "source": [
    "df['What is your idea about the importance of antibiotics?'].value_counts(normalize=True) * 100"
   ]
  },
  {
   "cell_type": "markdown",
   "metadata": {},
   "source": [
    "## Question #5:  What is the most dangerous impact of antibiotics?"
   ]
  },
  {
   "cell_type": "code",
   "execution_count": null,
   "metadata": {},
   "outputs": [],
   "source": [
    "df['What is the most dangerous impact of antibiotics?'].value_counts() "
   ]
  },
  {
   "cell_type": "code",
   "execution_count": null,
   "metadata": {},
   "outputs": [],
   "source": [
    "df['What is the most dangerous impact of antibiotics?'].value_counts(normalize=True) "
   ]
  },
  {
   "cell_type": "code",
   "execution_count": null,
   "metadata": {},
   "outputs": [],
   "source": [
    "df['What is the most dangerous impact of antibiotics?'].value_counts(normalize=True) * 100"
   ]
  },
  {
   "cell_type": "markdown",
   "metadata": {},
   "source": [
    "## Question #6: What is your opinion about antibiotic usage?"
   ]
  },
  {
   "cell_type": "code",
   "execution_count": null,
   "metadata": {},
   "outputs": [],
   "source": [
    "df['What is your opinion about antibiotic usage?'].value_counts() "
   ]
  },
  {
   "cell_type": "code",
   "execution_count": null,
   "metadata": {},
   "outputs": [],
   "source": [
    "df['What is your opinion about antibiotic usage?'].value_counts(normalize=True) "
   ]
  },
  {
   "cell_type": "code",
   "execution_count": null,
   "metadata": {},
   "outputs": [],
   "source": [
    "df['What is your opinion about antibiotic usage?'].value_counts(normalize=True)*100"
   ]
  },
  {
   "cell_type": "markdown",
   "metadata": {},
   "source": [
    "## Question #7: What is your perception of drug-resistant germs?"
   ]
  },
  {
   "cell_type": "code",
   "execution_count": null,
   "metadata": {},
   "outputs": [],
   "source": [
    "df['What is your perception of drug-resistant germs?'].value_counts() "
   ]
  },
  {
   "cell_type": "code",
   "execution_count": null,
   "metadata": {},
   "outputs": [],
   "source": [
    "df['What is your perception of drug-resistant germs?'].value_counts(normalize=True) "
   ]
  },
  {
   "cell_type": "code",
   "execution_count": null,
   "metadata": {},
   "outputs": [],
   "source": [
    "df['What is your perception of drug-resistant germs?'].value_counts(normalize=True)*100"
   ]
  },
  {
   "cell_type": "markdown",
   "metadata": {},
   "source": [
    "## Question #8: Do you have idea about antibiotic resistance as a threat to public health?"
   ]
  },
  {
   "cell_type": "code",
   "execution_count": null,
   "metadata": {},
   "outputs": [],
   "source": [
    "df['Do you have idea about antibiotic resistance as a threat to public health?'].value_counts() "
   ]
  },
  {
   "cell_type": "code",
   "execution_count": null,
   "metadata": {},
   "outputs": [],
   "source": [
    "df['Do you have idea about antibiotic resistance as a threat to public health?'].value_counts(normalize=True) "
   ]
  },
  {
   "cell_type": "code",
   "execution_count": null,
   "metadata": {},
   "outputs": [],
   "source": [
    "df['Do you have idea about antibiotic resistance as a threat to public health?'].value_counts(normalize=True)*100"
   ]
  },
  {
   "cell_type": "markdown",
   "metadata": {},
   "source": [
    "## Question #9: Choose a statement that you feel is the best strategy to face antibiotic-resistance"
   ]
  },
  {
   "cell_type": "code",
   "execution_count": null,
   "metadata": {},
   "outputs": [],
   "source": [
    "df['Choose a statement that you feel is the best strategy to face antibiotic-resistance'].value_counts() "
   ]
  },
  {
   "cell_type": "code",
   "execution_count": null,
   "metadata": {},
   "outputs": [],
   "source": [
    "df['Choose a statement that you feel is the best strategy to face antibiotic-resistance'].value_counts(normalize=True) "
   ]
  },
  {
   "cell_type": "code",
   "execution_count": null,
   "metadata": {},
   "outputs": [],
   "source": [
    "df['Choose a statement that you feel is the best strategy to face antibiotic-resistance'].value_counts(normalize=True)*100"
   ]
  },
  {
   "cell_type": "markdown",
   "metadata": {},
   "source": [
    "## Question #10: Which of the strategies have you heard about against antibiotic resistance?"
   ]
  },
  {
   "cell_type": "code",
   "execution_count": null,
   "metadata": {},
   "outputs": [],
   "source": [
    "df['Which of the strategies have you heard about against antibiotic resistance?'].value_counts()"
   ]
  },
  {
   "cell_type": "code",
   "execution_count": null,
   "metadata": {},
   "outputs": [],
   "source": [
    "df['Which of the strategies have you heard about against antibiotic resistance?'].value_counts(normalize=True)"
   ]
  },
  {
   "cell_type": "code",
   "execution_count": null,
   "metadata": {},
   "outputs": [],
   "source": [
    "df['Which of the strategies have you heard about against antibiotic resistance?'].value_counts(normalize=True)*100"
   ]
  },
  {
   "cell_type": "markdown",
   "metadata": {},
   "source": [
    "## Question #11: What type of movement on public health issues do you think will be effective in setting malpractices right?"
   ]
  },
  {
   "cell_type": "code",
   "execution_count": null,
   "metadata": {},
   "outputs": [],
   "source": [
    "df['What type of movement on public health issues do you think will be effective in setting malpractices right?'].value_counts()"
   ]
  },
  {
   "cell_type": "code",
   "execution_count": null,
   "metadata": {},
   "outputs": [],
   "source": [
    "df['What type of movement on public health issues do you think will be effective in setting malpractices right?'].value_counts(normalize=True)"
   ]
  },
  {
   "cell_type": "code",
   "execution_count": null,
   "metadata": {},
   "outputs": [],
   "source": [
    "df['What type of movement on public health issues do you think will be effective in setting malpractices right?'].value_counts(normalize=True)*100"
   ]
  },
  {
   "cell_type": "markdown",
   "metadata": {},
   "source": [
    "## Question #12: Why do you think public health issues don’t get due importance in public opinion?"
   ]
  },
  {
   "cell_type": "code",
   "execution_count": null,
   "metadata": {},
   "outputs": [],
   "source": [
    "df['Why do you think public health issues don’t get due importance in public opinion?'].value_counts() "
   ]
  },
  {
   "cell_type": "code",
   "execution_count": null,
   "metadata": {},
   "outputs": [],
   "source": [
    "df['Why do you think public health issues don’t get due importance in public opinion?'].value_counts(normalize=True) "
   ]
  },
  {
   "cell_type": "code",
   "execution_count": null,
   "metadata": {},
   "outputs": [],
   "source": [
    "df['Why do you think public health issues don’t get due importance in public opinion?'].value_counts(normalize=True)*100"
   ]
  },
  {
   "cell_type": "markdown",
   "metadata": {},
   "source": [
    "## Question #13: How many antibiotics have you taken over the past 3 years?"
   ]
  },
  {
   "cell_type": "code",
   "execution_count": null,
   "metadata": {},
   "outputs": [],
   "source": [
    "df['How many antibiotics have you taken over the past 3 years?'].value_counts() "
   ]
  },
  {
   "cell_type": "code",
   "execution_count": null,
   "metadata": {},
   "outputs": [],
   "source": [
    "df['How many antibiotics have you taken over the past 3 years?'].value_counts(normalize=True) "
   ]
  },
  {
   "cell_type": "code",
   "execution_count": null,
   "metadata": {},
   "outputs": [],
   "source": [
    "df['How many antibiotics have you taken over the past 3 years?'].value_counts(normalize=True)*100"
   ]
  },
  {
   "cell_type": "markdown",
   "metadata": {},
   "source": [
    "## Question #14: What was the pattern of antibiotic use?"
   ]
  },
  {
   "cell_type": "code",
   "execution_count": null,
   "metadata": {},
   "outputs": [],
   "source": [
    "df['What was the pattern of antibiotic use?'].value_counts() "
   ]
  },
  {
   "cell_type": "code",
   "execution_count": null,
   "metadata": {},
   "outputs": [],
   "source": [
    "df['What was the pattern of antibiotic use?'].value_counts(normalize=True) "
   ]
  },
  {
   "cell_type": "code",
   "execution_count": null,
   "metadata": {},
   "outputs": [],
   "source": [
    "df['What was the pattern of antibiotic use?'].value_counts(normalize=True)*100"
   ]
  },
  {
   "cell_type": "markdown",
   "metadata": {},
   "source": [
    "## Question #15: What was the formulation of the product used?"
   ]
  },
  {
   "cell_type": "code",
   "execution_count": null,
   "metadata": {},
   "outputs": [],
   "source": [
    "df['What was the formulation of the product used?'].value_counts() "
   ]
  },
  {
   "cell_type": "code",
   "execution_count": null,
   "metadata": {},
   "outputs": [],
   "source": [
    "df['What was the formulation of the product used?'].value_counts(normalize=True) "
   ]
  },
  {
   "cell_type": "code",
   "execution_count": null,
   "metadata": {},
   "outputs": [],
   "source": [
    "df['What was the formulation of the product used?'].value_counts(normalize=True)*100"
   ]
  },
  {
   "cell_type": "markdown",
   "metadata": {},
   "source": [
    "## Question #16: What was the best experience with the consumption of antibiotics?"
   ]
  },
  {
   "cell_type": "code",
   "execution_count": null,
   "metadata": {},
   "outputs": [],
   "source": [
    "df['What was the best experience with the consumption of antibiotics?'].value_counts() "
   ]
  },
  {
   "cell_type": "code",
   "execution_count": null,
   "metadata": {},
   "outputs": [],
   "source": [
    "df['What was the best experience with the consumption of antibiotics?'].value_counts(normalize=True) "
   ]
  },
  {
   "cell_type": "code",
   "execution_count": null,
   "metadata": {},
   "outputs": [],
   "source": [
    "df['What was the best experience with the consumption of antibiotics?'].value_counts(normalize=True)*100"
   ]
  },
  {
   "cell_type": "markdown",
   "metadata": {},
   "source": [
    "## Question #16: What was the worst experience with the consumption of antibiotics?"
   ]
  },
  {
   "cell_type": "code",
   "execution_count": null,
   "metadata": {},
   "outputs": [],
   "source": [
    "df['What was the worst experience with the consumption of antibiotics?'].value_counts() "
   ]
  },
  {
   "cell_type": "code",
   "execution_count": null,
   "metadata": {},
   "outputs": [],
   "source": [
    "df['What was the worst experience with the consumption of antibiotics?'].value_counts(normalize=True)"
   ]
  },
  {
   "cell_type": "code",
   "execution_count": null,
   "metadata": {},
   "outputs": [],
   "source": [
    "df['What was the worst experience with the consumption of antibiotics?'].value_counts(normalize=True)*100"
   ]
  },
  {
   "cell_type": "markdown",
   "metadata": {},
   "source": [
    "## Question #17:How did you come to consume the antibiotic?\n",
    "__TODO__\n",
    "- Fix Errors!"
   ]
  },
  {
   "cell_type": "code",
   "execution_count": null,
   "metadata": {},
   "outputs": [],
   "source": [
    "df['How did you come to consume the antibiotic?'].value_counts() "
   ]
  },
  {
   "cell_type": "code",
   "execution_count": null,
   "metadata": {},
   "outputs": [],
   "source": [
    "df['How did you come to consume the antibiotic?'].value_counts(normalize=True) "
   ]
  },
  {
   "cell_type": "code",
   "execution_count": null,
   "metadata": {},
   "outputs": [],
   "source": [
    "df['How did you come to consume the antibiotic?'].value_counts(normalize=True)*100"
   ]
  },
  {
   "cell_type": "markdown",
   "metadata": {},
   "source": [
    "## Question #18:Have you experienced treatment failure from antibiotic consumption?"
   ]
  },
  {
   "cell_type": "code",
   "execution_count": null,
   "metadata": {},
   "outputs": [],
   "source": [
    "df['Have you experienced treatment failure from antibiotic consumption?'].value_counts() "
   ]
  },
  {
   "cell_type": "code",
   "execution_count": null,
   "metadata": {},
   "outputs": [],
   "source": [
    "df['Have you experienced treatment failure from antibiotic consumption?'].value_counts(normalize=True) "
   ]
  },
  {
   "cell_type": "code",
   "execution_count": null,
   "metadata": {},
   "outputs": [],
   "source": [
    "df['Have you experienced treatment failure from antibiotic consumption?'].value_counts(normalize=True)*100"
   ]
  },
  {
   "cell_type": "markdown",
   "metadata": {},
   "source": [
    "## Question #19:What was your understanding of treatment failure?"
   ]
  },
  {
   "cell_type": "code",
   "execution_count": null,
   "metadata": {},
   "outputs": [],
   "source": [
    "df['What was your understanding of treatment failure?'].value_counts()"
   ]
  },
  {
   "cell_type": "code",
   "execution_count": null,
   "metadata": {},
   "outputs": [],
   "source": [
    "df['What was your understanding of treatment failure?'].value_counts(normalize=True)"
   ]
  },
  {
   "cell_type": "code",
   "execution_count": null,
   "metadata": {},
   "outputs": [],
   "source": [
    "df['What was your understanding of treatment failure?'].value_counts(normalize=True)*100"
   ]
  }
 ],
 "metadata": {
  "kernelspec": {
   "display_name": "Python 3",
   "language": "python",
   "name": "python3"
  },
  "language_info": {
   "codemirror_mode": {
    "name": "ipython",
    "version": 3
   },
   "file_extension": ".py",
   "mimetype": "text/x-python",
   "name": "python",
   "nbconvert_exporter": "python",
   "pygments_lexer": "ipython3",
   "version": "3.8.3"
  },
  "latex_envs": {
   "LaTeX_envs_menu_present": true,
   "autoclose": false,
   "autocomplete": true,
   "bibliofile": "biblio.bib",
   "cite_by": "apalike",
   "current_citInitial": 1,
   "eqLabelWithNumbers": true,
   "eqNumInitial": 1,
   "hotkeys": {
    "equation": "Ctrl-E",
    "itemize": "Ctrl-I"
   },
   "labels_anchors": false,
   "latex_user_defs": false,
   "report_style_numbering": false,
   "user_envs_cfg": false
  }
 },
 "nbformat": 4,
 "nbformat_minor": 4
}
